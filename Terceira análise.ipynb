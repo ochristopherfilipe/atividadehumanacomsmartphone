{
 "cells": [
 
   },
   "cell_type": "markdown",
   "metadata": {},
   "source": [
    "![image.png](attachment:image.png)"
   ]
  },
  {
   "cell_type": "markdown",
   "metadata": {},
   "source": [
    "### 1. Carregando as bases\n"
   ]
  },
  {
   "cell_type": "code",
   "execution_count": 1,
   "metadata": {},
   "outputs": [],
   "source": [
    "import pandas as pd\n",
    "import seaborn as sns\n",
    "import matplotlib.pyplot as plt\n",
    "import numpy as np\n",
    "from sklearn.tree import DecisionTreeClassifier\n",
    "from sklearn.model_selection import train_test_split\n",
    "from sklearn.metrics import confusion_matrix\n",
    "from sklearn.model_selection import GridSearchCV"
   ]
  },
  {
   "cell_type": "markdown",
   "metadata": {},
   "source": [
    "#### Carregando os dados"
   ]
  },
  {
   "cell_type": "code",
   "execution_count": 2,
   "metadata": {},
   "outputs": [],
   "source": [
    "# Carregando o arquivo usando o pandas com espaço em branco como separador\n",
    "features = pd.read_csv(\"./UCI HAR Dataset/features.txt\", sep='\\s+', header=None)\n",
    "# Carregando o arquivo usando o pandas com espaço em branco como separador\n",
    "subject_train = pd.read_csv(\"./UCI HAR Dataset/train/subject_train.txt\", sep='\\s+', header=None)\n",
    "# Carregando o arquivo usando o pandas com espaço em branco como separador\n",
    "X_train = pd.read_csv(\"./UCI HAR Dataset/train/X_train.txt\", sep='\\s+', header=None)\n",
    "# Definindo os nomes das colunas em X_train com base em features.txt\n",
    "X_train.columns = features[1]\n",
    "# Adicionando a coluna do subject_train como uma variável em X_train\n",
    "X_train['Subject'] = subject_train[0]\n",
    "# Criando um índice duplo composto pela ordem dos dados e pelo identificador do indivíduo\n",
    "X_train = X_train.reset_index().set_index(['index', 'Subject'])\n",
    "# Carregando o arquivo usando o pandas com espaço em branco como separador\n",
    "subject_test = pd.read_csv(\"./UCI HAR Dataset/test/subject_test.txt\", sep='\\s+', header=None)\n",
    "# Carregando o arquivo usando o pandas com espaço em branco como separador\n",
    "X_test = pd.read_csv(\"./UCI HAR Dataset/test/X_test.txt\", sep='\\s+', header=None)\n",
    "# Definindo os nomes das colunas em X_train com base em features.txt\n",
    "X_test.columns = features[1]\n",
    "# Adicionando a coluna do subject_test como uma variável em X_test\n",
    "X_test['Subject'] = subject_test[0]\n",
    "# Criando um índice duplo composto pela ordem dos dados e pelo identificador do indivíduo\n",
    "X_test = X_test.reset_index().set_index(['index', 'Subject'])\n",
    "# Carregando y_train e y_test\n",
    "y_test = pd.read_csv(\"./UCI HAR Dataset/test/y_test.txt\", sep='\\s+', header=None)\n",
    "y_train = pd.read_csv(\"./UCI HAR Dataset/train/y_train.txt\", sep='\\s+', header=None)\n"
   ]
  },
  {
   "cell_type": "markdown",
   "metadata": {},
   "source": [
    "### 2. Calcule os ```ccp_alphas```. \n",
    "\n",
    "Vamos seguir uma lógica bem em linha com o que já estamso acostumados, com as seguintes orientações:\n",
    "\n",
    "- Utilizar treinamento e teste conforme já vieram definidos originalmente\n",
    "- Por pragmatismo, utilizar ```min_samples_leaf=20```\n",
    "- Utilize as mesmas \"3 melhores variáveis\" identificadas no exercício anterior."
   ]
  },
  {
   "cell_type": "code",
   "execution_count": 12,
   "metadata": {},
   "outputs": [
    {
     "name": "stdout",
     "output_type": "stream",
     "text": [
      "CPU times: total: 1.88 s\n",
      "Wall time: 4.01 s\n"
     ]
    }
   ],
   "source": [
    "%%time\n",
    "\n",
    "# Criando o modelo\n",
    "clf = DecisionTreeClassifier(max_depth=4, random_state=42, min_samples_leaf=20)\n",
    "# Calculando os ccp_alphas\n",
    "caminho = clf.cost_complexity_pruning_path(X_train, y_train)\n",
    "ccp_alphas, impurities = caminho.ccp_alphas, caminho.impurities"
   ]
  },
  {
   "cell_type": "code",
   "execution_count": 14,
   "metadata": {},
   "outputs": [],
   "source": [
    "# Garantindo a uniprevalência de cada ccp_alpha\n",
    "ccp_alpha = np.unique(ccp_alphas[ccp_alphas>=0])"
   ]
  },
  {
   "cell_type": "markdown",
   "metadata": {},
   "source": [
    "### 3. *Grid Search*\n",
    "\n",
    "Vou deixar especificações iniciais mínimas, que visam limitar o tempo de máquina, pois um procedimento desses pode demorar muito tempo dependendo da especificação. Mas conforme você for ficando confortável com o tempo consumido pelo procedimento, pode fazer um algoritmo mais exaustivo, por exemplo, avaliando mais valores de ```ccp_alpha```.\n",
    "\n",
    "- Meça o tempo\n",
    "- Utilize a base de treinamento\n",
    "- Utilize um *cross validation* do tipo *k-fold*, especifique k=10\n",
    "- Você pode ler 1 a cada ```k``` valores para uma melhor varredura utilizando, por exemplo, ```ccp_alpha[::10]```\n",
    "- Não se esqueça de limitar o número de variáveis"
   ]
  },
  {
   "cell_type": "code",
   "execution_count": 21,
   "metadata": {},
   "outputs": [
    {
     "name": "stdout",
     "output_type": "stream",
     "text": [
      "Fitting 2 folds for each of 9 candidates, totalling 18 fits\n",
      "[CV 1/2; 1/9] START ccp_alpha=0.0...............................................\n"
     ]
    },
    {
     "name": "stdout",
     "output_type": "stream",
     "text": [
      "[CV 1/2; 1/9] END ................ccp_alpha=0.0;, score=0.822 total time=   4.8s\n",
      "[CV 2/2; 1/9] START ccp_alpha=0.0...............................................\n",
      "[CV 2/2; 1/9] END ................ccp_alpha=0.0;, score=0.858 total time=   4.3s\n",
      "[CV 1/2; 2/9] START ccp_alpha=0.003440509138242197..............................\n",
      "[CV 1/2; 2/9] END ccp_alpha=0.003440509138242197;, score=0.822 total time=   7.3s\n",
      "[CV 2/2; 2/9] START ccp_alpha=0.003440509138242197..............................\n",
      "[CV 2/2; 2/9] END ccp_alpha=0.003440509138242197;, score=0.858 total time=   7.0s\n",
      "[CV 1/2; 3/9] START ccp_alpha=0.007428722297431772..............................\n",
      "[CV 1/2; 3/9] END ccp_alpha=0.007428722297431772;, score=0.822 total time=   3.5s\n",
      "[CV 2/2; 3/9] START ccp_alpha=0.007428722297431772..............................\n",
      "[CV 2/2; 3/9] END ccp_alpha=0.007428722297431772;, score=0.858 total time=   3.9s\n",
      "[CV 1/2; 4/9] START ccp_alpha=0.011786934153282457..............................\n",
      "[CV 1/2; 4/9] END ccp_alpha=0.011786934153282457;, score=0.822 total time=   3.9s\n",
      "[CV 2/2; 4/9] START ccp_alpha=0.011786934153282457..............................\n",
      "[CV 2/2; 4/9] END ccp_alpha=0.011786934153282457;, score=0.868 total time=   2.6s\n",
      "[CV 1/2; 5/9] START ccp_alpha=0.07989643514752323...............................\n",
      "[CV 1/2; 5/9] END ccp_alpha=0.07989643514752323;, score=0.824 total time=   4.7s\n",
      "[CV 2/2; 5/9] START ccp_alpha=0.07989643514752323...............................\n",
      "[CV 2/2; 5/9] END ccp_alpha=0.07989643514752323;, score=0.782 total time=   5.5s\n",
      "[CV 1/2; 6/9] START ccp_alpha=0.09085682443718834...............................\n",
      "[CV 1/2; 6/9] END ccp_alpha=0.09085682443718834;, score=0.824 total time=   4.5s\n",
      "[CV 2/2; 6/9] START ccp_alpha=0.09085682443718834...............................\n",
      "[CV 2/2; 6/9] END ccp_alpha=0.09085682443718834;, score=0.782 total time=   3.8s\n",
      "[CV 1/2; 7/9] START ccp_alpha=0.10936371763047262...............................\n",
      "[CV 1/2; 7/9] END ccp_alpha=0.10936371763047262;, score=0.665 total time=   4.1s\n",
      "[CV 2/2; 7/9] START ccp_alpha=0.10936371763047262...............................\n",
      "[CV 2/2; 7/9] END ccp_alpha=0.10936371763047262;, score=0.544 total time=   6.2s\n",
      "[CV 1/2; 8/9] START ccp_alpha=0.16725771957779945...............................\n",
      "[CV 1/2; 8/9] END ccp_alpha=0.16725771957779945;, score=0.545 total time=   4.4s\n",
      "[CV 2/2; 8/9] START ccp_alpha=0.16725771957779945...............................\n",
      "[CV 2/2; 8/9] END ccp_alpha=0.16725771957779945;, score=0.378 total time=   5.8s\n",
      "[CV 1/2; 9/9] START ccp_alpha=0.1861382417305819................................\n",
      "[CV 1/2; 9/9] END .ccp_alpha=0.1861382417305819;, score=0.192 total time=   5.0s\n",
      "[CV 2/2; 9/9] START ccp_alpha=0.1861382417305819................................\n",
      "[CV 2/2; 9/9] END .ccp_alpha=0.1861382417305819;, score=0.378 total time=   5.1s\n",
      "CPU times: total: 39.2 s\n",
      "Wall time: 1min 37s\n"
     ]
    },
    {
     "data": {
      "text/html": [
       "<style>#sk-container-id-2 {color: black;}#sk-container-id-2 pre{padding: 0;}#sk-container-id-2 div.sk-toggleable {background-color: white;}#sk-container-id-2 label.sk-toggleable__label {cursor: pointer;display: block;width: 100%;margin-bottom: 0;padding: 0.3em;box-sizing: border-box;text-align: center;}#sk-container-id-2 label.sk-toggleable__label-arrow:before {content: \"▸\";float: left;margin-right: 0.25em;color: #696969;}#sk-container-id-2 label.sk-toggleable__label-arrow:hover:before {color: black;}#sk-container-id-2 div.sk-estimator:hover label.sk-toggleable__label-arrow:before {color: black;}#sk-container-id-2 div.sk-toggleable__content {max-height: 0;max-width: 0;overflow: hidden;text-align: left;background-color: #f0f8ff;}#sk-container-id-2 div.sk-toggleable__content pre {margin: 0.2em;color: black;border-radius: 0.25em;background-color: #f0f8ff;}#sk-container-id-2 input.sk-toggleable__control:checked~div.sk-toggleable__content {max-height: 200px;max-width: 100%;overflow: auto;}#sk-container-id-2 input.sk-toggleable__control:checked~label.sk-toggleable__label-arrow:before {content: \"▾\";}#sk-container-id-2 div.sk-estimator input.sk-toggleable__control:checked~label.sk-toggleable__label {background-color: #d4ebff;}#sk-container-id-2 div.sk-label input.sk-toggleable__control:checked~label.sk-toggleable__label {background-color: #d4ebff;}#sk-container-id-2 input.sk-hidden--visually {border: 0;clip: rect(1px 1px 1px 1px);clip: rect(1px, 1px, 1px, 1px);height: 1px;margin: -1px;overflow: hidden;padding: 0;position: absolute;width: 1px;}#sk-container-id-2 div.sk-estimator {font-family: monospace;background-color: #f0f8ff;border: 1px dotted black;border-radius: 0.25em;box-sizing: border-box;margin-bottom: 0.5em;}#sk-container-id-2 div.sk-estimator:hover {background-color: #d4ebff;}#sk-container-id-2 div.sk-parallel-item::after {content: \"\";width: 100%;border-bottom: 1px solid gray;flex-grow: 1;}#sk-container-id-2 div.sk-label:hover label.sk-toggleable__label {background-color: #d4ebff;}#sk-container-id-2 div.sk-serial::before {content: \"\";position: absolute;border-left: 1px solid gray;box-sizing: border-box;top: 0;bottom: 0;left: 50%;z-index: 0;}#sk-container-id-2 div.sk-serial {display: flex;flex-direction: column;align-items: center;background-color: white;padding-right: 0.2em;padding-left: 0.2em;position: relative;}#sk-container-id-2 div.sk-item {position: relative;z-index: 1;}#sk-container-id-2 div.sk-parallel {display: flex;align-items: stretch;justify-content: center;background-color: white;position: relative;}#sk-container-id-2 div.sk-item::before, #sk-container-id-2 div.sk-parallel-item::before {content: \"\";position: absolute;border-left: 1px solid gray;box-sizing: border-box;top: 0;bottom: 0;left: 50%;z-index: -1;}#sk-container-id-2 div.sk-parallel-item {display: flex;flex-direction: column;z-index: 1;position: relative;background-color: white;}#sk-container-id-2 div.sk-parallel-item:first-child::after {align-self: flex-end;width: 50%;}#sk-container-id-2 div.sk-parallel-item:last-child::after {align-self: flex-start;width: 50%;}#sk-container-id-2 div.sk-parallel-item:only-child::after {width: 0;}#sk-container-id-2 div.sk-dashed-wrapped {border: 1px dashed gray;margin: 0 0.4em 0.5em 0.4em;box-sizing: border-box;padding-bottom: 0.4em;background-color: white;}#sk-container-id-2 div.sk-label label {font-family: monospace;font-weight: bold;display: inline-block;line-height: 1.2em;}#sk-container-id-2 div.sk-label-container {text-align: center;}#sk-container-id-2 div.sk-container {/* jupyter's `normalize.less` sets `[hidden] { display: none; }` but bootstrap.min.css set `[hidden] { display: none !important; }` so we also need the `!important` here to be able to override the default hidden behavior on the sphinx rendered scikit-learn.org. See: https://github.com/scikit-learn/scikit-learn/issues/21755 */display: inline-block !important;position: relative;}#sk-container-id-2 div.sk-text-repr-fallback {display: none;}</style><div id=\"sk-container-id-2\" class=\"sk-top-container\"><div class=\"sk-text-repr-fallback\"><pre>GridSearchCV(cv=2,\n",
       "             estimator=DecisionTreeClassifier(max_depth=4, min_samples_leaf=20,\n",
       "                                              random_state=42),\n",
       "             param_grid={&#x27;ccp_alpha&#x27;: array([0.        , 0.00344051, 0.00742872, 0.01178693, 0.07989644,\n",
       "       0.09085682, 0.10936372, 0.16725772, 0.18613824])},\n",
       "             verbose=100)</pre><b>In a Jupyter environment, please rerun this cell to show the HTML representation or trust the notebook. <br />On GitHub, the HTML representation is unable to render, please try loading this page with nbviewer.org.</b></div><div class=\"sk-container\" hidden><div class=\"sk-item sk-dashed-wrapped\"><div class=\"sk-label-container\"><div class=\"sk-label sk-toggleable\"><input class=\"sk-toggleable__control sk-hidden--visually\" id=\"sk-estimator-id-2\" type=\"checkbox\" ><label for=\"sk-estimator-id-2\" class=\"sk-toggleable__label sk-toggleable__label-arrow\">GridSearchCV</label><div class=\"sk-toggleable__content\"><pre>GridSearchCV(cv=2,\n",
       "             estimator=DecisionTreeClassifier(max_depth=4, min_samples_leaf=20,\n",
       "                                              random_state=42),\n",
       "             param_grid={&#x27;ccp_alpha&#x27;: array([0.        , 0.00344051, 0.00742872, 0.01178693, 0.07989644,\n",
       "       0.09085682, 0.10936372, 0.16725772, 0.18613824])},\n",
       "             verbose=100)</pre></div></div></div><div class=\"sk-parallel\"><div class=\"sk-parallel-item\"><div class=\"sk-item\"><div class=\"sk-label-container\"><div class=\"sk-label sk-toggleable\"><input class=\"sk-toggleable__control sk-hidden--visually\" id=\"sk-estimator-id-3\" type=\"checkbox\" ><label for=\"sk-estimator-id-3\" class=\"sk-toggleable__label sk-toggleable__label-arrow\">estimator: DecisionTreeClassifier</label><div class=\"sk-toggleable__content\"><pre>DecisionTreeClassifier(max_depth=4, min_samples_leaf=20, random_state=42)</pre></div></div></div><div class=\"sk-serial\"><div class=\"sk-item\"><div class=\"sk-estimator sk-toggleable\"><input class=\"sk-toggleable__control sk-hidden--visually\" id=\"sk-estimator-id-4\" type=\"checkbox\" ><label for=\"sk-estimator-id-4\" class=\"sk-toggleable__label sk-toggleable__label-arrow\">DecisionTreeClassifier</label><div class=\"sk-toggleable__content\"><pre>DecisionTreeClassifier(max_depth=4, min_samples_leaf=20, random_state=42)</pre></div></div></div></div></div></div></div></div></div></div>"
      ],
      "text/plain": [
       "GridSearchCV(cv=2,\n",
       "             estimator=DecisionTreeClassifier(max_depth=4, min_samples_leaf=20,\n",
       "                                              random_state=42),\n",
       "             param_grid={'ccp_alpha': array([0.        , 0.00344051, 0.00742872, 0.01178693, 0.07989644,\n",
       "       0.09085682, 0.10936372, 0.16725772, 0.18613824])},\n",
       "             verbose=100)"
      ]
     },
     "execution_count": 21,
     "metadata": {},
     "output_type": "execute_result"
    }
   ],
   "source": [
    "%%time\n",
    "\n",
    "# Rodando a árvore\n",
    "clf = DecisionTreeClassifier(max_depth=4, random_state=42, min_samples_leaf=20)\n",
    "# Definindo o grid de parametros\n",
    "grid_parametros = {'ccp_alpha':ccp_alphas}\n",
    "# Procurando o melhor Grid\n",
    "grid = GridSearchCV(estimator=clf, param_grid=grid_parametros, cv=2, verbose=100)\n",
    "grid.fit(X_train, y_train)"
   ]
  },
  {
   "cell_type": "code",
   "execution_count": 22,
   "metadata": {},
   "outputs": [
    {
     "data": {
      "text/html": [
       "<div>\n",
       "<style scoped>\n",
       "    .dataframe tbody tr th:only-of-type {\n",
       "        vertical-align: middle;\n",
       "    }\n",
       "\n",
       "    .dataframe tbody tr th {\n",
       "        vertical-align: top;\n",
       "    }\n",
       "\n",
       "    .dataframe thead th {\n",
       "        text-align: right;\n",
       "    }\n",
       "</style>\n",
       "<table border=\"1\" class=\"dataframe\">\n",
       "  <thead>\n",
       "    <tr style=\"text-align: right;\">\n",
       "      <th></th>\n",
       "      <th>mean_fit_time</th>\n",
       "      <th>std_fit_time</th>\n",
       "      <th>mean_score_time</th>\n",
       "      <th>std_score_time</th>\n",
       "      <th>param_ccp_alpha</th>\n",
       "      <th>params</th>\n",
       "      <th>split0_test_score</th>\n",
       "      <th>split1_test_score</th>\n",
       "      <th>mean_test_score</th>\n",
       "      <th>std_test_score</th>\n",
       "      <th>rank_test_score</th>\n",
       "    </tr>\n",
       "  </thead>\n",
       "  <tbody>\n",
       "    <tr>\n",
       "      <th>0</th>\n",
       "      <td>4.665165</td>\n",
       "      <td>0.244875</td>\n",
       "      <td>0.022287</td>\n",
       "      <td>0.000182</td>\n",
       "      <td>0.0</td>\n",
       "      <td>{'ccp_alpha': 0.0}</td>\n",
       "      <td>0.821817</td>\n",
       "      <td>0.857998</td>\n",
       "      <td>0.839908</td>\n",
       "      <td>0.018090</td>\n",
       "      <td>2</td>\n",
       "    </tr>\n",
       "    <tr>\n",
       "      <th>1</th>\n",
       "      <td>7.165006</td>\n",
       "      <td>0.240474</td>\n",
       "      <td>0.078779</td>\n",
       "      <td>0.056589</td>\n",
       "      <td>0.003441</td>\n",
       "      <td>{'ccp_alpha': 0.003440509138242197}</td>\n",
       "      <td>0.821817</td>\n",
       "      <td>0.857998</td>\n",
       "      <td>0.839908</td>\n",
       "      <td>0.018090</td>\n",
       "      <td>2</td>\n",
       "    </tr>\n",
       "    <tr>\n",
       "      <th>2</th>\n",
       "      <td>3.750158</td>\n",
       "      <td>0.201416</td>\n",
       "      <td>0.042467</td>\n",
       "      <td>0.017524</td>\n",
       "      <td>0.007429</td>\n",
       "      <td>{'ccp_alpha': 0.007428722297431772}</td>\n",
       "      <td>0.821817</td>\n",
       "      <td>0.857998</td>\n",
       "      <td>0.839908</td>\n",
       "      <td>0.018090</td>\n",
       "      <td>2</td>\n",
       "    </tr>\n",
       "    <tr>\n",
       "      <th>3</th>\n",
       "      <td>3.169059</td>\n",
       "      <td>0.539364</td>\n",
       "      <td>0.165501</td>\n",
       "      <td>0.134374</td>\n",
       "      <td>0.011787</td>\n",
       "      <td>{'ccp_alpha': 0.011786934153282457}</td>\n",
       "      <td>0.821817</td>\n",
       "      <td>0.868063</td>\n",
       "      <td>0.844940</td>\n",
       "      <td>0.023123</td>\n",
       "      <td>1</td>\n",
       "    </tr>\n",
       "    <tr>\n",
       "      <th>4</th>\n",
       "      <td>5.117738</td>\n",
       "      <td>0.398283</td>\n",
       "      <td>0.046906</td>\n",
       "      <td>0.002860</td>\n",
       "      <td>0.079896</td>\n",
       "      <td>{'ccp_alpha': 0.07989643514752323}</td>\n",
       "      <td>0.823993</td>\n",
       "      <td>0.782372</td>\n",
       "      <td>0.803183</td>\n",
       "      <td>0.020811</td>\n",
       "      <td>5</td>\n",
       "    </tr>\n",
       "  </tbody>\n",
       "</table>\n",
       "</div>"
      ],
      "text/plain": [
       "   mean_fit_time  std_fit_time  mean_score_time  std_score_time  \\\n",
       "0       4.665165      0.244875         0.022287        0.000182   \n",
       "1       7.165006      0.240474         0.078779        0.056589   \n",
       "2       3.750158      0.201416         0.042467        0.017524   \n",
       "3       3.169059      0.539364         0.165501        0.134374   \n",
       "4       5.117738      0.398283         0.046906        0.002860   \n",
       "\n",
       "  param_ccp_alpha                               params  split0_test_score  \\\n",
       "0             0.0                   {'ccp_alpha': 0.0}           0.821817   \n",
       "1        0.003441  {'ccp_alpha': 0.003440509138242197}           0.821817   \n",
       "2        0.007429  {'ccp_alpha': 0.007428722297431772}           0.821817   \n",
       "3        0.011787  {'ccp_alpha': 0.011786934153282457}           0.821817   \n",
       "4        0.079896   {'ccp_alpha': 0.07989643514752323}           0.823993   \n",
       "\n",
       "   split1_test_score  mean_test_score  std_test_score  rank_test_score  \n",
       "0           0.857998         0.839908        0.018090                2  \n",
       "1           0.857998         0.839908        0.018090                2  \n",
       "2           0.857998         0.839908        0.018090                2  \n",
       "3           0.868063         0.844940        0.023123                1  \n",
       "4           0.782372         0.803183        0.020811                5  "
      ]
     },
     "execution_count": 22,
     "metadata": {},
     "output_type": "execute_result"
    }
   ],
   "source": [
    "# Vendo os resultados em um dataframe para melhor visualização\n",
    "resultados = pd.DataFrame(grid.cv_results_)\n",
    "resultados.head()"
   ]
  },
  {
   "cell_type": "markdown",
   "metadata": {},
   "source": [
    "### 4. Avaliando a árvore\n",
    "\n",
    "- Obtenha a árvore na melhor configuração treinada em toda a base de treino\n",
    "- Calcule a acurácia dessa árvore na base de testes\n",
    "- Visualize a matriz de confusão"
   ]
  },
  {
   "cell_type": "code",
   "execution_count": 26,
   "metadata": {},
   "outputs": [],
   "source": [
    "# Obtendo a árvore na melhor configuração treinada na base de treino\n",
    "\n",
    "melhor_ccp = resultados.iloc[grid.best_index_, 4]\n",
    "\n",
    "clf = DecisionTreeClassifier(random_state=42, ccp_alpha = melhor_ccp).fit(X_train, y_train)"
   ]
  },
  {
   "cell_type": "code",
   "execution_count": 29,
   "metadata": {},
   "outputs": [
    {
     "name": "stdout",
     "output_type": "stream",
     "text": [
      "Acurácia: 89.57\n"
     ]
    }
   ],
   "source": [
    "# Verificando acurácia dessa árvore na base de teste\n",
    "acuracia_test = clf.score(X_train, y_train)\n",
    "\n",
    "print(f\"Acurácia: {acuracia_test*100:.2f}\")"
   ]
  },
  {
   "cell_type": "code",
   "execution_count": 33,
   "metadata": {},
   "outputs": [
    {
     "data": {
      "image/png": "iVBORw0KGgoAAAANSUhEUgAAAl0AAAHUCAYAAAAA1Z2mAAAAOXRFWHRTb2Z0d2FyZQBNYXRwbG90bGliIHZlcnNpb24zLjcuMCwgaHR0cHM6Ly9tYXRwbG90bGliLm9yZy88F64QAAAACXBIWXMAAA9hAAAPYQGoP6dpAABa1ElEQVR4nO3dd1QUZxsF8Lv03kVAKQKKogh2EXvvvYs9dmNv2CUa7L1XNCb28hljjcYuRkSs2EWKoDRBpQrz/WHcZAMqa2AGlvs7Z89x33ln9plnyeYyMzvIBEEQQERERET5Sk3qAoiIiIiKAoYuIiIiIhEwdBERERGJgKGLiIiISAQMXUREREQiYOgiIiIiEgFDFxEREZEIGLqIiIiIRMDQRURERCQChi4iFePv7w+ZTAaZTIZz585lWy4IApydnSGTyVC/fv1veo21a9fC399fqXXOnTv32ZryyuzZsyGTyfJ8u7dv30b//v1RqlQp6OjowMDAAJUrV8bChQsRHx+f56/3Tzdv3kS9evVgbGwMmUyG5cuX5/lrxMTEwN3dHZaWlli9ejWuXLkCR0fHPH8doqJOQ+oCiCh/GBoaYsuWLdmC1fnz5/H06VMYGhp+87bXrl0LCwsL9OvXL9frVK5cGVevXoWrq+s3v64UNm3ahOHDh8PFxQUTJ06Eq6srMjIyEBgYiPXr1+Pq1as4dOhQvr3+gAED8P79e+zevRumpqZwcHDI89c4ePAgjI2N4ePjg4ULF8LHxweLFi3K89chKuoYuohUVLdu3fDzzz9jzZo1MDIyko9v2bIFnp6eSEpKEqWOjIwMyGQyGBkZoWbNmqK8Zl65evUqhg0bhiZNmuDw4cPQ1taWL2vSpAnGjx+PEydO5GsNd+/exaBBg9CiRYt8e40hQ4ZgyJAhAIDu3bvn2+sQFXU8vUikonr06AEA2LVrl3wsMTERBw4cwIABA3JcZ86cOahRowbMzMxgZGSEypUrY8uWLRAEQT7HwcEB9+7dw/nz5+WnMT8dffl0CvGnn37C+PHjUaJECWhra+PJkyfZTi+GhobK18/p8TW//fYbPDw8oK2tjVKlSmHx4sU5zhMEAWvXroWHhwd0dXVhamqKzp0749mzZ199jR9//BEymQwbN25UCFyfaGlpoW3btvLnWVlZWLhwIcqWLQttbW1YWlqiT58+iIiIUFivfv36qFChAq5fv446depAT08Pjo6OmD9/PrKysgD8fZr4w4cPWLdunUJfPnca9dM6oaGh8rGzZ8+ifv36MDc3h66uLuzs7NCpUyckJyfL5+TmfVdm/4goZzzSRaSijIyM0LlzZ2zdulV+FGPXrl1QU1NDt27dcrw2KDQ0FEOGDIGdnR0AICAgAN9//z0iIyMxc+ZMAMChQ4fQuXNnGBsbY+3atQCQLZD4+PjA09MT69evh5qaGiwtLREdHa0wx9raGlevXlUYi4mJgbe3N0qUKPHFfTtz5gzatWsHT09P7N69G5mZmVi4cCFevXqVbe6QIUPg7++PUaNGYcGCBYiPj4evry9q1aqFW7duoXjx4jm+RmZmJs6ePYsqVarA1tb2i/V8MmzYMGzcuBEjR45E69atERoaihkzZuDcuXMICgqChYWFfG50dDR69eqF8ePHY9asWTh06BB8fHxgY2ODPn36oFWrVrh69So8PT3RuXNnjB8/Plc1/FNoaChatWqFOnXqYOvWrTAxMUFkZCROnDiB9PR06Onpyed97X1Xdv+IKAcCEamUbdu2CQCE69evC3/88YcAQLh7964gCIJQrVo1oV+/foIgCEL58uWFevXqfXY7mZmZQkZGhuDr6yuYm5sLWVlZ8mWfW/fT69WtW/ezy/74448cX+/9+/dC9erVBWtrayE0NPSL+1ijRg3BxsZGSElJkY8lJSUJZmZmwj8/1q5evSoAEJYsWaKwfnh4uKCrqytMmjTps68RHR0tABC6d+/+xVo+CQkJEQAIw4cPVxi/du2aAECYOnWqfKxevXoCAOHatWsKc11dXYVmzZopjAEQRowYoTA2a9YsIaeP70/v/fPnzwVBEIT9+/cLAITg4OBc7YMgfP59V2b/iChnPL1IpMLq1asHJycnbN26FXfu3MH169c/e2oR+HgqqnHjxjA2Noa6ujo0NTUxc+ZMxMXF4fXr17l+3U6dOilVZ2ZmJrp164aQkBAcO3YM9vb2n537/v17XL9+HR07doSOjo583NDQEG3atFGYe/ToUchkMnh7e+PDhw/yh5WVFdzd3fP0m5R//PEHAGT7ckH16tVRrlw5nDlzRmHcysoK1atXVxirWLEiXrx4kWc1eXh4QEtLC4MHD8b27ds/e0o1N++7svtHRNkxdBGpMJlMhv79+2Pnzp1Yv349ypQpgzp16uQ4988//0TTpk0BfPzG3uXLl3H9+nVMmzYNAJCSkpLr17W2tlaqzqFDh+LEiRPYv38/PDw8vjg3ISEBWVlZsLKyyrbs32OvXr2CIAgoXrw4NDU1FR4BAQGIjY397OtYWFhAT08Pz58/z9U+xMXFAch5321sbOTLPzE3N882T1tbW6k+f42TkxN+//13WFpaYsSIEXBycoKTkxNWrFghn5Pb913Z/SOi7HhNF5GK69evH2bOnIn169dj3rx5n523e/duaGpq4ujRowpHkA4fPqz0aypzr6zZs2dj8+bN2LZtm/x//l9iamoKmUyW7RoxANnGLCwsIJPJcPHixRwvhM9p7BN1dXU0atQIx48fR0REBEqWLPnFuj6FqKioqGxzX758mafXO316f9LS0hT2IacQWadOHdSpUweZmZkIDAzEqlWrMGbMGBQvXhzdu3fP9fsu5v4RqSoe6SJScSVKlMDEiRPRpk0b9O3b97PzZDIZNDQ0oK6uLh9LSUnBTz/9lG1uXh2R2bJlC+bMmQNfX99c3/NLX18f1atXx8GDB5Gamioff/v2LX799VeFua1bt4YgCIiMjETVqlWzPdzc3L74Wj4+PhAEAYMGDUJ6enq25RkZGfLXbNiwIQBg586dCnOuX7+OkJAQNGrUKFf7lxufvi16+/ZthfF/7/8/qauro0aNGlizZg0AICgoCEDu33cx949IVfFIF1ERMH/+/K/OadWqFZYuXYqePXti8ODBiIuLw+LFi3M8GuTm5obdu3djz549cHR0hI6OzlcDzL9dvXoVQ4cOhZeXF5o0aYKAgACF5V+6p9cPP/yA5s2by++VlZmZiQULFkBfX1/hDvFeXl4YPHgw+vfvj8DAQNStWxf6+vqIiorCpUuX4ObmhmHDhn32dTw9PbFu3ToMHz4cVapUwbBhw1C+fHlkZGTg5s2b2LhxIypUqIA2bdrAxcUFgwcPxqpVq6CmpoYWLVrIv91na2uLsWPHKtWfL2nZsiXMzMwwcOBA+Pr6QkNDA/7+/ggPD1eYt379epw9exatWrWCnZ0dUlNTsXXrVgBA48aNAeT+fRdz/4hUlsQX8hNRHvvntxe/JKdvIG7dulVwcXERtLW1BUdHR8HPz0/YsmWLwjfiBEEQQkNDhaZNmwqGhoYCAMHe3l4QhL+/obhv375sr/fvby9+qvNzj685cuSIULFiRUFLS0uws7MT5s+f/9lv9W3dulWoUaOGoK+vL+jq6gpOTk5Cnz59hMDAwK++jiAIQnBwsNC3b1/Bzs5O0NLSEvT19YVKlSoJM2fOFF6/fi2fl5mZKSxYsEAoU6aMoKmpKVhYWAje3t5CeHi4wvbq1asnlC9fPtvr9O3bV97LT5DDtxcFQRD+/PNPoVatWoK+vr5QokQJYdasWcLmzZsV3qurV68KHTp0EOzt7QVtbW3B3NxcqFevnnDkyJFs/cnN+57b/SOinMkE4V93vyMiIiKiPMdruoiIiIhEwNBFREREJAKGLiIiIiIRMHQRERERiYChi4iIiEgEDF1EREREImDoIiIiIhKBSt6R3n5+Q6lLKDICx/wsdQlFgr6GodQlFBlqMv4uSkTK01HX++ocfroQERERiYChi4iIiEgEDF1EREREImDoIiIiIhIBQxcRERGRCBi6iIiIiETA0EVEREQkAoYuIiIiIhEwdBERERGJgKGLiIiISAQMXUREREQiYOgiIiIiEgFDFxEREZEIGLqIiIiIRMDQRURERCQChi4iIiIiETB0EREREYmAoYuIiIhIBAxdRERERCJg6CIiIiISAUMXERERkQgYuoiIiIhEwNBFREREJAKGLiIiIiIRMHQRERERiUBD6gJURXXbihhSoxvcipdGcUMLDDowA6ceX1aYM6Z2X/R0bwVjHUPcjArBjFMr8Tg2FABQ0rg4Lg/bleO2hx2ag2MPzwMASpmWxNSGQ1C1RAVoqmvgYcxzLL6wFVfDgvNz9wq04Bu38Iv/bjwMeYS4mDj8uOwH1G1YBwDwIeMDNq7egoBLAXgZEQV9Q31UrVEFw0YPhoWlhXwbkeGRWL1kHe4E30F6egZqeFXH2CmjYGZuJtVuFQo3AoOwY+sO3L8fgtiYWCxduRgNGjWQL4+LjcOKpStx9UoA3r19i8pVKmPStEmwt7eTsGrVsWfXXvhv3Y7YmFg4OTth0pQJqFy1stRlqST2Whyq3mce6cojepo6CHn1FDNPr8px+dAa3fFdtc6YeXoV2mwfhph38fi520Loa+kCAF4mxaDqqk4KjyUXt+F9egrOPbsm3862Lj9CQ6aOHrvGo7X/UNx/9QRbO89DMX1TUfazIEpJSYWzixPGTRmdbVlqaioePXiEvoP7YOuejZi31BfhL8IxefTUv9dPTsHYoRMhk8mwYtMyrNu+Gh8yMjD5+6nIysoSc1cKnZSUFJRxKYMp0yZnWyYIAsaOGo+IiEgsX7UUu/b/AmsbawwdOAwpySkSVKtaThw/iYV+izBoyEDsObALlatUwvAhIxH1Mkrq0lQOey2OotBnhq48cu7Zn1h8cStOPLqY4/KB1Tph9ZWfceLRRTyKDcX43xZAR1MH7VwbAQCyhCzEvE9QeDQvUxtHQ/5AckYqAMBU1wilzEpibcAuPIh5htCESMw/vwl6WrooY+Eg1q4WOJ61a2DwyO9Qr3HdbMsMDA2wfMMSNGrWAHYOdqhQsTzGThmNh/cfITrqFQDgTvBdRL+MxrQfpsCptCOcSjvCx3cKQu49wI0/g8TenUKldh0vjBg9HI2aNMy2LOxFGO7cuoNpM31Q3q08HEo5wGfGFKQkp+D4sRMSVKtafvLfiQ6d2qNj545wdHLEJJ+JsLK2wt7d+6QuTeWw1+IoCn1m6BKBrbE1LA3McTE0UD6WnpmBa+G3UKVE+RzXqVC8NMoXL409t4/LxxJSkvA4NhSdKjSFrqYO1GVq6OXRBq/fxeNO9KN83w9V8e7dO8hkMhgaGgAA0tMzIJMBmlqa8jnaWlpQU1PD7Zt3pCqz0EtPTwcAaGlpycfU1dWhqamB4KBgiapSDRnpGQi5HwJPL0+Fcc9aNXEr+JZEVakm9locRaXPkoauiIgITJs2DQ0aNEC5cuXg6uqKBg0aYNq0aQgPD5eytDxlafDxuqCY9wkK47HvE1BMP+drhrq7t8Tj2FDciLynMN5r9ySUL+6M++OO4tHEkxhYrTP67p2MpLT3+VO8iklLS8P6FRvRpEUj6BvoAwDKV3SFjq4u1i3fgNSUVKQkp2DN0nXIyspCXEy8xBUXXg6lHGBtY41Vy1cjKTEJGekZ2LppG2Jj4xAbEyt1eYVawpsEZGZmwvxf1xyam5sjNjZOoqpUE3stjqLSZ8lC16VLl1CuXDkcOnQI7u7u6NOnD7y9veHu7o7Dhw+jfPnyuHz58le3k5aWhqSkJIWH8KGAXocjCApPZZBBgJBtmraGFtq6NlI4yvXJ3GajEZf8Bl12jka77cNx+vFlbO38Iyw/E97obx8yPmD2ZF8IWQLGTxsrHzc1M8EPi2bj8vmraOLZAs1rt8L7d+9RplwZqKnzYPC30tTUxOLli/AiNAz1ajWAZ1Uv3Lh+A151vKCmri51eSpBJpMpPBcEIdsY5Q32Whyq3mfJvr04duxYfPfdd1i2bNlnl48ZMwbXr1//4nb8/PwwZ84chTGjRg4waVwqz2r9r16/+3i0pJiBGV6///vIibm+CWL/dfQLAFq61IOupjYO3DmlMO5lXwmNnGqi4vJ2eJeeDACYfmoFajtUQSe3ZlgXkPO3H+lj4JoxcTZeRkZj5aal8qNcn1SvVQ17f/sFbxLeQF1dHYZGhmjbsANsSmS/Volyz7V8Oew5uAtv375FRsYHmJmZonf3PnAt7yp1aYWaqYkp1NXVsx0BiI+Pz3akgP4b9locRaXPkv0af/fuXQwdOvSzy4cMGYK7d+9+dTs+Pj5ITExUeBjXt8/LUv+z8MQovH4Xh9oOVeRjmmoaqGHrnu30IQB0c2+B3x9fQXxKosK4jqYOgI8X3f9TliBATYV+E8hrnwJXRFgElm9YAmMT48/ONTE1gaGRIW5cC0JC/BvUrl9LxEpVl6GhIczMTPHiRRju3wtB/Yb1pC6pUNPU0kQ513IIuBKgMB5wJQDuHu4SVaWa2GtxFJU+S3aky9raGleuXIGLi0uOy69evQpra+uvbkdbWxva2toKYzIN8bOknqYOHExLyJ/bmljD1dIJb1Lf4mXSa2y5fgAjPHshNCESz+MjMNKzF1IzUvG/+2cUtmNvYoMathXRb69PttcIiryHxNR3WNp6ClZc3oHUjHT08GgFWxMrnH0akG1+UZGcnIzIsEj586jIaDx+8BiGxkawKGaO6RNm4VHIIyxY5YesrEzE/fWblJGxETQ1P148/9vh47B3tIOpqQnu3rqHFQtXo6t3F9g58H5SX5L8PhnhYX9ffxkZ8RIPQx7CyNgI1jbWOH3yNExNTWFlbYXHj59gkd9i1G9YP9vFsqS83v28MW3ydLiWd4W7R0Uc2HcQUVHR6NKts9SlqRz2WhxFoc+Sha4JEyZg6NChuHHjBpo0aYLixYtDJpMhOjoap0+fxubNm7F8+XKpylNaRWsX7On596nSmY2GAwD23TmBCb8txPpru6GjqY25TUfDSMcQwS9D4L1nEt6nK96vqGvFFoh+G4sLzwPxbwkpSeizdzIm1h2IXT2WQENNA49jQzHowAyEvH6WvztYgD249xCjvvv7Gq1Vi9cAAFq0bYYBQ/vh0rmP1wb27/qdwnorNy9D5WqVAABhoWHYsHIjkhLfwsrGCn2+80a33l1E2oPC6/69+xjUf4j8+ZKFSwEAbdq1hu+PcxATE4slC5chLjYOFsUs0LptKwweOkiqclVK8xbNkPgmERvXbURMTCycSztjzYZVsClhI3VpKoe9FkdR6LNMEITsV3KLZM+ePVi2bBlu3LiBzMxMAB+/Ul6lShWMGzcOXbt2/abt2s/ndThiCRzzs9QlFAn6GoZSl1BkqMn45QkiUp6Out5X50j6Z4C6deuGbt26ISMjA7GxH79CbmFhIT/lQ0RERKQqCsTfXtTU1MzV9VtEREREhRWPoxMRERGJgKGLiIiISAQMXUREREQiYOgiIiIiEgFDFxEREZEIGLqIiIiIRMDQRURERCQChi4iIiIiETB0EREREYmAoYuIiIhIBAxdRERERCJg6CIiIiISAUMXERERkQgYuoiIiIhEwNBFREREJAKGLiIiIiIRMHQRERERiYChi4iIiEgEDF1EREREImDoIiIiIhIBQxcRERGRCBi6iIiIiETA0EVEREQkAoYuIiIiIhEwdBERERGJQCYIgiB1EXktMT1e6hKKjJZ7h0tdQpHwW9fVUpdQZOio60ldAhEVQrn57OCRLiIiIiIRMHQRERERiYChi4iIiEgEDF1EREREImDoIiIiIhIBQxcRERGRCBi6iIiIiETA0EVEREQkAoYuIiIiIhEwdBERERGJgKGLiIiISAQMXUREREQiYOgiIiIiEgFDFxEREZEIGLqIiIiIRMDQRURERCQChi4iIiIiETB0EREREYmAoYuIiIhIBAxdRERERCJg6CIiIiISAUMXERERkQgYuoiIiIhEwNBFREREJAKGLiIiIiIRMHQRERERiUBD6gKKmtevXmP1srW4cukq0tLSYGdvh+lzpqJc+bLyOc+fhWL1sjUICrwJIUuAo3Mp/Lh4LqysrSSsvODS09DBIPeuqGtbDaY6xniUEIrlgf54EPcM6jJ1DPboBk8bD9gYWuJ9ejKuR9/F+pu7EJuSIN9GW+dGaFLKCy6mDtDX0kOzPQPwLiNZwr0q+D58+IDNa7fixLFTiI+Ng7mFBVq1a4EBQ/pBTe3v3+eePwvFmmVrERQYDCErC6WcS+HHxT/w5zkP7Nm1F/5btyM2JhZOzk6YNGUCKletLHVZKom9Foeq95mhS0RJiUkY1GcIqlSrghXrlsLUzAwR4REwNDKQz4kIj8CgPkPQtmMbDB7+HQwMDPD8eSi0tLQkrLxgm1JzCBxNSsL3yhrEJiegmWMdrGg0Hb1+HY+UD6lwMXOA/52DePLmBQy19DG6Sl8sqD8BA49Pk29DR0ML114G49rLYAyr1FPCvSk8ftr6Mw7uO4yZ86bD0akUQu49wNwZ82BgaIDu3l0BfPx5HtxnGNp2bI1Bw7+DgYE+nj9/AS0tbYmrL/xOHD+JhX6LMG2mDzwqeWD/3gMYPmQkDv16ANY21lKXp1LYa3EUhT7LBEEQpC4iryWmx0tdQo5WL1uLW8G3sWn7+s/OmTZxBjQ0NDDHb5aIlX27lnuHS/r6WuqaON3NH1POL8bVyJvycf+W83E5Mgibbu3Ntk5Zc0dsafEjOh4cgVfJcQrLKhV3xeomMwvcka7fuq6WuoRsxo2YCDNzM0z39ZGPTR47FTo6OpjjNxMAMG3izL9+nmdKVabSdNT1pC4hV3p1641yrmUxfdbfvzy0b90RDRrWx+hxoySsTPWw1+Io7H3OzWcHr+kS0cVzF1HOtSymjJuKZvVawrtLHxze/z/58qysLFy+cAV29rb4fsgYNKvXEv17DsS5M+clrLpg05CpQ0NNHemZGQrjaZnpqGhZNsd1DDT1kCVk4W0BClWFkXuligi8Foiw0DAAwKOHj3Er6DZq1fEE8PHn+cpfP8+jhoxF83qtMKDnIJw/c0HKslVCRnoGQu6HwNPLU2Hcs1ZN3Aq+JVFVqom9FkdR6XOBDl3h4eEYMGDAF+ekpaUhKSlJ4ZGWliZShcqJjHiJg3sPwc7eFivXL0PHLh2wZP5S/HbkGAAgPj4BycnJ2L71J3h61cCqDctRv2E9TB7rg6DrQRJXXzAlf0jFnZhH6OfWERa6plCTydC0VG24WjjDQtck23wtNU0Mq9QDp0MvIzkjRfyCVUifgd5o0qIxurbtiVqV6qJPl/7o3rsrmrVsAgBIiE9AcnIKdmzdCU+vGli5YRnqNayLyWOnIuj6za9snb4k4U0CMjMzYW5upjBubm6O2Ni4z6xF34K9FkdR6XOBDl3x8fHYvn37F+f4+fnB2NhY4bF04XJxClRSVlYWXMqVwfDRw+BSzgUdu3ZAu07tcGDPIQCAkJUFAKhbvw569umBMmXLoO93fVC7nhcO7jssYeUF2w+X10AG4H+d1uGPHjvRxaU5TodeRuZf/fxEXaaOOXVGQSZTw+I/t0pTrAo5feIMThw9Bd8Fs7FjzzbMnDcdP/vvwm//+/hLRNY/fp579On+189zb9SuV4s/z3lEJpMpPBcEIdsY5Q32Whyq3mdJL6Q/cuTIF5c/e/bsq9vw8fHBuHHjFMZSZe//U135xaKYBUo5lVIYc3B0wB+//wEAMDE1gbqGevY5pRxw66bqHF7Na5HvXmHkaV/oqGtDX0sXcSlv4Ft7NKLev5bPUZep44c6o2FtYIlRp3/gUa48sGrJGvQZ6I2mLRoDAJzLOCH6ZTS2b/4Jrdq1/MfPs4PCeh9/nm9LULHqMDUxhbq6erYjAPHx8dmOFNB/w16Lo6j0WdLQ1b59e8hkMnzpWv6vJVxtbW1oayt+E0pI/5An9eW1ih5uePHX9S+fhIWGyb86r6mpCdfy5eTXyMjnvAjj1+tzITUzDakpaTDU0kd1m4pYG/QLgL8Dl62RNb4/7Yuk9HcSV6oaUlNTFW4NAQBq6mrI+uu/508/z9l+5l+E8+f5P9LU0kQ513IIuBKARo0byscDrgSgfsP60hWmgthrcRSVPkt6etHa2hoHDhxAVlZWjo+gINW6jqlnn+64e/sutm3yR3hYOE78dhKHD/wPXbp3ls/x7t8Lp0/8jsP7/4fwsHDs/WUfLp2/jM7dO0lYecFW3boiali7w1q/GKpZuWFV4xkIS4rCb0/PQV2mhnl1x6KsuRPmXFoFNZkazHSMYaZjDA01dfk2zHSMUdrUHiUNiwMAnEzsUNrUHoZa+lLtVoFXp54Xtm3cjksXruBlZBTOnTmPXTv2oH7DuvI53v174vcTZ3B4/xGEh0Vg3y/7cen8ZXTq3kHCylVD737eOLj/EA4dOIxnT59h0fzFiIqKRpdunb++MimFvRZHUeizpLeMaNu2LTw8PODr65vj8lu3bqFSpUrya0Nyq6DeMgIALp6/hLXL1yE8LAI2JazRs08PtO/cTmHOkUO/YvvmHXj96jXsHOwxePh3qPeP/5EVJFLfMgIAGtrVxNBKPVBMzwxJ6e9wPuxPbAjejfcZKbDSL4YDHVbluN7I0764+eo+AGBAxc4YWDH7f9jzrqzDsWfSf3u0IN4y4v3799iwehPOn7mAhPgEWBSzQNMWTTBwWH9oamrK5x05dBTbN/+EmFevYedgh0HDv0O9hnUkrPzLCsstI4C/biS5xR8xMbFwLu2MiVPGo0rVKlKXpZLYa3EU5j7n5rND0tB18eJFvH//Hs2bN89x+fv37xEYGIh69eoptd2CHLpUTUEIXUVBQQxdqqowhS4iKjhy89kh6TVddep8+bddfX19pQMXERERUUFUoG8ZQURERKQqGLqIiIiIRMDQRURERCQChi4iIiIiETB0EREREYmAoYuIiIhIBAxdRERERCJg6CIiIiISAUMXERERkQgYuoiIiIhEwNBFREREJAKGLiIiIiIRMHQRERERiYChi4iIiEgEDF1EREREImDoIiIiIhIBQxcRERGRCBi6iIiIiETA0EVEREQkAoYuIiIiIhEwdBERERGJgKGLiIiISAQMXUREREQiYOgiIiIiEgFDFxEREZEIZIIgCFIXkdeSMhKkLqHIyMhKl7qEImHI7zOlLqHI2Nl8mdQlEFEhpKOu99U5PNJFREREJAKGLiIiIiIRMHQRERERiYChi4iIiEgEDF1EREREImDoIiIiIhIBQxcRERGRCBi6iIiIiETA0EVEREQkAoYuIiIiIhEwdBERERGJgKGLiIiISAQMXUREREQiYOgiIiIiEgFDFxEREZEIGLqIiIiIRMDQRURERCQChi4iIiIiETB0EREREYlA6dCVkpKC5ORk+fMXL15g+fLlOHXqVJ4WRkRERKRKlA5d7dq1w44dOwAAb968QY0aNbBkyRK0a9cO69aty/MCiYiIiFSB0qErKCgIderUAQDs378fxYsXx4sXL7Bjxw6sXLkyzwskIiIiUgVKh67k5GQYGhoCAE6dOoWOHTtCTU0NNWvWxIsXL/K8QCIiIiJVoHTocnZ2xuHDhxEeHo6TJ0+iadOmAIDXr1/DyMgozwskIiIiUgVKh66ZM2diwoQJcHBwQI0aNeDp6Qng41GvSpUq5XmBRERERKpAQ9kVOnfujNq1ayMqKgru7u7y8UaNGqFDhw55WhwRERGRqlA6dAGAlZUVrKysFMaqV6+eJwWputevXmPV0jW4eukqUtPSYGdvhxm+01CufNlsc3+cMx+H9h3G2Mlj0LN3dwmqLRxuBgbjF//deBjyELExcfBbPg/1GtaRLxcEAVvWbcORA78iKektyru5YvzUsXB0LqWwnTu37mLDyk24fycEGpoaKO3ijKVrF0FbR1vsXSqQ1GRq6Fq6DeqUqA4TbSO8SUvEH+FXceDJMQgQAAA1rCqhiV0dOBrbw0jLABMu/oDQpIhs2ypj4ogeLu1Q2qQUMoVMhCaFY96fq5CelSH2bhVqe3bthf/W7YiNiYWTsxMmTZmAylUrS12WSmKvxaHqfc5V6OrYsSP8/f1hZGSEjh07fnHuwYMH86QwVZSUmITveg9GlepVsGL9MpiamSIiPBKGhgbZ5p47cx53b99DMctiElRauKSmpMLZxQmt2rfA1HEzsi3fue0X7P5pL6b/4ANbe1v4b9qBMUPGYdeRn6GvrwfgY+AaN2wieg/shXE+Y6CpqYHHD59CpiYTe3cKrPZOzdDUvi5W39qG8LdRcDK2xwj3vkj+kIJjoWcBANrqWngQ/xRXo25gWMU+OW6njIkjplUfhUNPj2PLvd34kJUJB6OSyPoruFHunDh+Egv9FmHaTB94VPLA/r0HMHzISBz69QCsbaylLk+lsNfiKAp9zlXoMjY2hkwmk/+bvs32rT+huFVxzJr7dzCwKWGTbd7rV6+x6MfFWLlhBcYOHydmiYWSZ52a8KxTM8dlgiBg78596DuoN+o3rgcAmDF3Klo3aI/Tx06jfZd2AICVC1ejS89O6DPQW76urb1t/hdfiLiYOOL6q2AEvb4LAIhJiUNtm2pwMraXz7kQeQ0AUEzX/LPb6efaBcdDz+Lw05Pysejk1/lUter6yX8nOnRqj46dP/4iPMlnIq5cvoq9u/dh9LhRElenWthrcRSFPucqdG3bti3Hf5NyLv5xETW9amLKuKkICryJYpbF0Ll7R3To3F4+JysrC7N85sC7nzecnB2lK1ZFvIyMQlxsPKp7VpOPaWlpwaOKO+4E30X7Lu0QH5eAe3fuo2mrJhjcexgiw1/CvpQdhnw/CO6VK0pYfcESkvAETe3qwlrfElHvX8PesCTKmjlj2/29ud6GkZYhypg64uLLPzGv1iQU1yuGyHfR2PXwMB4kPM3H6lVLRnoGQu6HYMCg/grjnrVq4lbwLYmqUk3stTiKSp8l/9uLKSkpuHTpEu7fv59tWWpqqvzu95+TlpaGpKQkhUdaWlp+lfufREa8xIE9B2FrZ4tVG5ajU9cOWOK3DL/975h8zvYtP0FdXR3dvbtKWKnqiI+NAwCYmZspjJuZmyEuLh4A8DLiJQBgy7ptaNupDZauWwSXcmUwatBYhL8IF7fgAuzw05O49PI6VtSbg90t1mJRnWn47fkZXH55PdfbKK5nAQDoWro1fg+7hHl/rsTzxDDMqjEWVnqW+VW6ykl4k4DMzEyY/+vn2tzcHLF//cxT3mCvxVFU+vxNF9Lv378fe/fuRVhYGNLT0xWWBQUF5Xo7jx49QtOmTREWFgaZTIY6depg165dsLb+eO42MTER/fv3R58+OV8bAgB+fn6YM2eOwtiU6ZPgM3OKEnskjqysLJQrXw4jxgwDALiUc8GzJ89wYO9BtGrXEiH3HmD3zj3YuW+7/HQu5Y1/t1MQBMgg++vfWQCA9p3bonX7lgAAl3JlEHjtBo4ePoZho4eIWmtB5WVdFXVL1MCKm1sQ/u4lHIxs0d+1K+JT3+B8ZECutqH21xtxOuwi/oi4AgB4nhQON4uyaGhbC788PJxf5aukf39OCILAz458wl6LQ9X7rPSRrpUrV6J///6wtLTEzZs3Ub16dZibm+PZs2do0aKFUtuaPHky3Nzc8Pr1azx8+BBGRkbw8vJCWFhYrrfh4+ODxMREhce4yWOV3S1RWBSzgKOTg8KYg6MDoqNeAQBuBgUjIT4BbZq0R013L9R090LUy2isWLQSbZu2F79gFWBm8fHaorjYeIXxhPgEmJmbAgDM/5rjkO29scerv94bAnqX64TDT0/iclQgwt6+xIXIazj6/Aw6Ouf+v/uE1EQAQPi7KIXxiHfRKKZrltMqlANTE1Ooq6tnOwIQHx+f7UgB/TfstTiKSp+VDl1r167Fxo0bsXr1amhpaWHSpEk4ffo0Ro0ahcTERKW2deXKFfz444+wsLCAs7Mzjhw5ghYtWqBOnTp49uxZrrahra0NIyMjhYe2dsH8ir97pYp4EaoYKMNehMPK+uPtN1q2aYFfDu7Ezv075I9ilsXg3b8XVm5YIUXJhZ5NCWuYW5jh+tVA+VhGRgaCb9yCm0cFAIB1CWtYWFogLNt7EyF/b+jjNxOz/joq+EmWkCU/Ypgbr1PiEJeagBL6xRXGbfQtEZMS/5m16N80tTRRzrUcAq4oHmEMuBIAdw/3z6xF34K9FkdR6bPSpxfDwsJQq1YtAICuri7evn0LAOjduzdq1qyJ1atX53pbKSkp0NBQLGHNmjVQU1NDvXr18MsvvyhbXoHWo3d3DOw9CNs2+qNx80a4d+c+Du0/jKmzPp4KNTExhomJ4rdDNTTUYW5hDodS9jltkvDx74FGhEXKn0dFRuHRg8cwMjaClXVxdPXugh1bdsLWviRK2pXEjs07oaOjjSYtmwD4eDi7V9/u2LxuG5zLOKNMWWccO3ICL56/wLwlvlLtVoET+Oo2Ojm3RGxqPMLfRqGUkS1al2osP00IAAaaerDQNYOptgkAwEb/Y2h9k5aEN2lJAIAjT0+ja5k2CE2KQGhSOOqX9ISNgRUWB20QfZ8Ks979vDFt8nS4lneFu0dFHNh3EFFR0ejSrbPUpakc9locRaHPSocuKysrxMXFwd7eHvb29ggICIC7uzueP38OQVDuPjtly5ZFYGAgypUrpzC+atUqCIKAtm3bKltegVbezRWLli/AmhXrsHn9VtiUsMa4yWPQonVzqUsr1B7ce4iRA0fLn69c9DH4t2zbHNPnToV3/55IS03D4nlL8TbpHVzdymHZ+iXye3QBQLfeXZGWno6Vi1YhKfEtnF2csGLDUpS0LSH6/hRUW+7tRneXdhhUvieMtA2RkJqI02EXsf/xUfmcqsXdMdK9n/z5uMqDAAB7H/2KvX/N+y30DDTVNdDPtQsMNPXx4m0Efri2HK+SY0Xdn8KueYtmSHyTiI3rNiImJhbOpZ2xZsOqHG9DQ/8Ney2OotBnmaBkUvruu+9ga2uLWbNmYf369Rg3bhy8vLwQGBiIjh07YsuWLbnelp+fHy5evIhjx47luHz48OFYv349srKyclz+OUkZCUrNp2+XkZX+9Un0nw35fabUJRQZO5svk7oEIiqEdNT1vjpH6dCVlZWFrKws+WnBvXv34tKlS3B2dsbQoUOhpaX1bdXmIYYu8TB0iYOhSzwMXUT0LXITupQ+vaimpgY1tb+vv+/atSu6duU9pYiIiIi+5Jtujnrx4kV4e3vD09MTkZEfL2D+6aefcOnSpTwtjoiIiEhVKB26Dhw4gGbNmkFXVxc3b96U3/397du3+PHHH/O8QCIiIiJVoHTomjt3LtavX49NmzZBU1NTPl6rVi2l7kZPREREVJQoHboePnyIunXrZhs3MjLCmzdv8qImIiIiIpWjdOiytrbGkydPso1funQJjo6OeVIUERERkapROnQNGTIEo0ePxrVr1yCTyfDy5Uv8/PPPmDBhAoYPH54fNRIREREVekrfMmLSpElITExEgwYNkJqairp160JbWxsTJkzAyJEj86NGIiIiokJP6ZujfpKcnIz79+8jKysLrq6uMDAwQHJyMvT0vn5zsPzGm6OKhzdHFQdvjioe3hyViL5Fbm6O+k336QIAPT09VK1aFdWrV4eGhgaWLl3Ka7qIiIiIPiPXoSs9PR3Tpk1DtWrVUKtWLRw+fBgAsG3bNjg6OmLJkiUYPXr0lzdCREREVETl+pqu2bNnY82aNWjSpAkuX76MLl26YMCAATh37hz8/PzQs2dPhft2EREREdHfch269u7dC39/f3To0AG3bt1CpUqVkJSUhHv37sn/+DURERER5SzXpxfDw8NRrVo1AIC7uzu0tLQwefJkBi4iIiKiXMh16MrIyICWlpb8uaamJoyNjfOlKCIiIiJVo9RhqpkzZ8pvCZGeno65c+dmC15Lly7Nu+qIiIiIVESuQ1fdunXx8OFD+fNatWrh2bNnCnNkMlneVUZERESkQnIdus6dO5ePZRARERGptm++OSoRERER5R5DFxEREZEIGLqIiIiIRMDQRURERCQChi4iIiIiESgduk6cOIFLly7Jn69ZswYeHh7o2bMnEhIS8rQ4IiIiIlWhdOiaOHEikpKSAAB37tzB+PHj0bJlSzx79gzjxo3L8wKJiIiIVIFMEARBmRUMDAxw9+5dODg4YPbs2bh79y7279+PoKAgtGzZEtHR0flVa66lZiZLXQIRFVIW0+pJXUKR8GLOUalLKBL0NQylLqHI0FHX++ocpY90aWlpITn5Y6j5/fff0bRpUwCAmZmZ/AgYERERESlS6m8vAkDt2rUxbtw4eHl54c8//8SePXsAAI8ePULJkiXzvEAiIiIiVaD0ka7Vq1dDQ0MD+/fvx7p161CiRAkAwPHjx9G8efM8L5CIiIhIFSh9TVdhwGu6iOhb8ZoucfCaLnHwmi7x5Ms1XQDw9OlTTJ8+HT169MDr168BfLyVxL17975lc0REREQqT+nQdf78ebi5ueHatWs4ePAg3r17BwC4ffs2Zs2alecFEhEREakCpUPXlClTMHfuXJw+fRpaWlry8QYNGuDq1at5WhwRERGRqlA6dN25cwcdOnTINl6sWDHExcXlSVFEREREqkbp0GViYoKoqKhs4zdv3pR/k5GIiIiIFCkdunr27InJkycjOjoaMpkMWVlZuHz5MiZMmIA+ffrkR41EREREhZ7SoWvevHmws7NDiRIl8O7dO7i6uqJu3bqoVasWpk+fnh81EhERERV6St2nSxAEhIWFoVixYoiOjkZQUBCysrJQqVIllC5dOj/rVArv00VE34r36RIH79MlDt6nSzy5uU+XUn8GSBAElC5dGvfu3UPp0qXh6Oj4zcURERERFSVKnV5UU1ND6dKl+S1FIiIiIiUpfU3XwoULMXHiRNy9ezc/6iEiIiJSSUqdXgQAb29vJCcnw93dHVpaWtDV1VVYHh8fn2fFEREREakKpUPX8uXL86EMIiIiItWmdOjq27dvftRBREREpNKUDl0AkJmZicOHDyMkJAQymQyurq5o27Yt1NXV87o+IiIiIpWgdOh68uQJWrZsicjISLi4uEAQBDx69Ai2trb47bff4OTklB91EhERERVqSn97cdSoUXByckJ4eDiCgoJw8+ZNhIWFoVSpUhg1alR+1EhERERU6Cl9pOv8+fMICAiAmZmZfMzc3Bzz58+Hl5dXnhZHREREpCqUPtKlra2Nt2/fZht/9+4dtLS08qQoIiIiIlWjdOhq3bo1Bg8ejGvXrkEQBAiCgICAAAwdOhRt27bNjxqJiIiICj2lQ9fKlSvh5OQET09P6OjoQEdHB15eXnB2dsaKFSvyo0YiIiKiQk/pa7pMTEzwv//9D48fP8aDBw8gCAJcXV3h7OycH/URERERqYRvuk8XAJQuXRqlS5fOy1qKrD279sJ/63bExsTCydkJk6ZMQOWqlaUuS+Wwz+Jhr5XjVaoSRtftjUolysLaqBi675iAo/fPy5e3Ld8AA2p0QKUS5WCubwLPFb1wJ+qRfLmdqTXuTz6S47Z7/zwFh+6cAQDs6bMEFW3KoJi+Kd6kvMUfT/7EjOOrEP02Nn93sIC6GRiMX/x342HIQ8TGxMFv+TzUa1hHvvzc7+dxeP8RPLz/CIlvEuG/dwvKlFX8/94C30W4HnADsTGx0NPTRQX3Chg+digcStmLvTsqQdU/O3IVusaNG5frDS5duvSbiymKThw/iYV+izBtpg88Knlg/94DGD5kJA79egDWNtZSl6cy2GfxsNfK09PUxd2oR9gZ+Ct+6b0w+3ItHQS8uI1Dd85gTafp2ZZHvHkFx7nNFcYG1OiAMXV749TDK/KxC88CsfiPbYh+GwsbI0vMazUaO70XoPG6gXm/U4VAakoqnF2c0Kp9C0wdNyPb8pSUVFT0cEPDJg0wf0729wUAXFxd0LRlE1hZF0dSYhK2rNuGsUPGY//xPbxhuJKKwmdHrkLXzZs3c7UxmUz2n4opin7y34kOndqjY+eOAIBJPhNx5fJV7N29D6PH8b5neYV9Fg97rbzTj67g9KMrn12+++ZxAB+PaOUkS8jC63dxCmNtytfHgdun8T49RT625tIu+b/D30Rj6bnt2N17ETTU1PEhK/O/7EKh5FmnJjzr1Pzs8hZtmgEAoiKjPjunfee/v0BmXcIag78fhD6d+yPqZTRK2pbIu2KLgKLw2ZGr0PXHH3/kdx1FUkZ6BkLuh2DAoP4K4561auJW8C2JqlI97LN42OuCwaNEWbjbuGDc4ZyPzgCAqa4Runk0R0DY7SIZuPJDSnIKfjt8DDYlrFHcylLqcgqVovLZ8c3XdOWVkJAQBAQEwNPTE2XLlsWDBw+wYsUKpKWlwdvbGw0bNvzi+mlpaUhLS1MYEzQyoa2tnZ9l54mENwnIzMyEubmZwri5uTliY+M+sxYpi30WD3tdMPSt2g4PXj3DtbDb2Zb5Nh+JIbW6Ql9LF9de3EaX7bm/fIRydmD3Iaxdth4pKSmwL2WH5RuXQlNTU+qyCpWi8tmh9C0jAOD69euYNGkSunfvjo4dOyo8lHHixAl4eHhgwoQJqFSpEk6cOIG6deviyZMnCAsLQ7NmzXD27NkvbsPPzw/GxsYKj0XzF3/Lbknm36dlBUHgqdp8wD6Lh72Wjo6GNrp4NMP2wJwvrF9x4Sd4rfRGm80jkClkYWPX2eIWqIKatWoC/72bsWbrStjalcSMCbOyHQyg3FH1zw6lQ9fu3bvh5eWF+/fv49ChQ8jIyMD9+/dx9uxZGBsbK7UtX19fTJw4EXFxcdi2bRt69uyJQYMG4fTp0/j9998xadIkzJ8//4vb8PHxQWJiosJj4pQJyu6WJExNTKGurp4txcfHx2dL+/Tt2GfxsNfSa+/WEHqaOtgV9FuOy+OSE/EkNgx/PPkT/X6ZhuZla6O6nZvIVaoWA0MD2NrbolJVD8xb+gNePA/D+TMXpS6rUCkqnx1Kh64ff/wRy5Ytw9GjR6GlpYUVK1YgJCQEXbt2hZ2dnVLbunfvHvr16wcA6Nq1K96+fYtOnTrJl/fo0QO3b2c/PP5P2traMDIyUngUhlOLAKCppYlyruUQcCVAYTzgSgDcPdwlqkr1sM/iYa+l17daOxwLuYDY92++OvfTEQRtDZ4Ky0sCBGRkZEhdRqFSVD47lL6m6+nTp2jVqhWAj4Hn/fv3kMlkGDt2LBo2bIg5c+Z8UyFqamrQ0dGBiYmJfMzQ0BCJiYnftL3Conc/b0ybPB2u5V3h7lERB/YdRFRUNLp06yx1aSqFfRYPe608fS1dOJrbyp/bm9nAzboMEpITEZH4Cqa6RihpYgVrIwsAQJliH+8B9eptnMK3Fh3NS8LLoRI6+o/J9hpVSrqiqm15XAm9hTcpSShlVgLTmwzB09hwXHtxJ393sIBKTk5GRFik/HlUZBQePXgMI2Mj+S0goqNeITbm433MwkLDAADmFmYwtzBHZMRLnDlxFtVrVYOJqQliXsdg59ZfoK2tDc/an/9WJOWsKHx2KB26zMzM5H/wukSJErh79y7c3Nzw5s0bJCcnK7UtBwcHPHnyRH43+6tXryocLQsPD4e1tWrcm+NzmrdohsQ3idi4biNiYmLhXNoZazasgk0JG6lLUynss3jYa+VVLlkOxwdvkD9f0Prjxe07bxzF0H1z0NK1LjZ0mSVfvr3njwCAH3/fiB9/3yQf7121LV4mxeDMY8WjBQCQmpGGthUaYGrjwdDX0kX021j8/ugq+u6ahvTMonlU5sG9hxg5cLT8+cpFqwEALds2x/S5U3Hx3GXMm+EnXz5z0seDCgOG9sN3wwdAS0sLt4JuYc/OfXib9BZm5qbwqOKODTvWwszcVNydUQFF4bNDJgiCoMwKPXv2RNWqVTFu3DjMmzcPK1asQLt27XD69GlUrlwZBw8ezPW21q9fD1tbW/mRs3+bNm0aXr16hc2bNytTIlIzlQt/RESfWEyrJ3UJRcKLOUelLqFI0NcwlLqEIkNHXe+rc3IduoKDg+Hh4YH4+HikpqbCxsYGWVlZWLx4MS5dugRnZ2fMmDEDpqbSp3uGLiL6Vgxd4mDoEgdDl3jyNHSpqamhUqVK+O6779CzZ0+lv6koJoYuIvpWDF3iYOgSB0OXeHITunL97cXLly+jcuXKmDJlCqytreHt7c071RMRERHlUq5Dl6enJzZt2oTo6GisW7cOERERaNy4MZycnDBv3jxERETkZ51EREREhZrS9+nS1dVF3759ce7cOTx69Ag9evTAhg0bUKpUKbRs2TI/aiQiIiIq9L7pzwB94uTkhClTpmDatGkwMjLCyZMn86ouIiIiIpXyzX/w+vz589i6dSsOHDgAdXV1dO3aFQMHDszL2oiIiIhUhlKhKzw8HP7+/vD398fz589Rq1YtrFq1Cl27doW+vn5+1UhERERU6OU6dDVp0gR//PEHihUrhj59+mDAgAFwcXHJz9qIiIiIVEauQ5euri4OHDiA1q1bQ11dPT9rIiIiIlI5uQ5dR44cyc86iIiIiFTaf/r2IhERERHlDkMXERERkQgYuoiIiIhEwNBFREREJAKGLiIiIiIRMHQRERERiYChi4iIiEgEDF1EREREImDoIiIiIhIBQxcRERGRCBi6iIiIiETA0EVEREQkAoYuIiIiIhEwdBERERGJgKGLiIiISAQyQRAEqYvIa6mZyVKXQESFVFzaa6lLKBKcZ3WSuoQiIWH+RalLKDJ01PW+OodHuoiIiIhEwNBFREREJAKGLiIiIiIRMHQRERERiYChi4iIiEgEDF1EREREImDoIiIiIhIBQxcRERGRCBi6iIiIiETA0EVEREQkAoYuIiIiIhEwdBERERGJgKGLiIiISAQMXUREREQiYOgiIiIiEgFDFxEREZEIGLqIiIiIRMDQRURERCQChi4iIiIiETB0EREREYmAoYuIiIhIBAxdRERERCJg6CIiIiISAUMXERERkQgYuoiIiIhEwNBFREREJAKGrgJgz669aNGkFap51ED3zj0RFBgkdUkqiX0WD3v939y6cQdTR89ElyY90LBSM1z644rC8pTkFKyYvxpdm/VC85pt0K/jd/jf3l9z3JYgCJgyYlqO2ylqvEpVwv7+y/Bs+gmkLLqBNuXrKyxvV6EBjny3GuGzzyBl0Q1UtCmTbRulzEtiT9/FCJv1O179cB47vefD0sBMYY6JriG2dPdFtO95RPuex5buvjDWMcjPXVMZqv7ZwdAlsRPHT2Kh3yIMGjIQew7sQuUqlTB8yEhEvYySujSVwj6Lh73+71JTUuFUxhHfTxmR4/I1i9fj+pVATJ03Cf4HN6Fzr45YtXAtLucQqvb/fAiQyfK75EJBX0sXd14+wtjDC3Jcrqeli6uhtzDj2Kqcl2vq4OigNRAEAS02DEXDNQOhpa6JA/2XQfaPHvv3nIeKNi5ot2Uk2m0ZiYo2LtjS44d82SdVUhQ+Oxi6JPaT/0506NQeHTt3hKOTIyb5TISVtRX27t4ndWkqhX0WD3v939WoXQ0DR/RD3Ua1c1x+/3YImrVuAo+q7rCysULrTi3hVMYRD+8/Vpj39OFT7N95AJNmjxOj7ALv1MMrmHNyHf53948cl+8KOga/3zfh7ONrOS73LOUBe1NrDNozG/ein+Be9BMM3jsbVe0qoL5zNQCAi6UDmpX1wvB9P+Daizu49uIORuz/Aa1c66J0Mft82zdVUBQ+Owpc6BIEQeoSRJORnoGQ+yHw9PJUGPesVRO3gm9JVJXqYZ/Fw16Lw82jPK6cD0DM61gIgoCb14MR8SIS1WpVkc9JTUnFXJ/5GDV5BMwszL6wNcotbXVNCIKAtA/p8rHUjHRkZmWiloMHAKCGfUW8SXmL6+F35XP+DLuLNylvUdO+otglFxpF5bOjwIUubW1thISE5Hp+WloakpKSFB5paWn5WGHeSXiTgMzMTJibK34gmpubIzY2TqKqVA/7LB72WhwjJw+HvaMdujXrhabVW2HKiOkY7TMSbpUqyOesXbIB5d1d4dWgloSVqpY/w+7gfXoq5rUaBV1NHehp6sCv9Wioq6nDysgCAFDc0Bwx7+KzrRvzLh7FDS3ELrnQKCqfHRpSvfC4cTkf7s7MzMT8+fNhbm4OAFi6dOkXt+Pn54c5c+YojE2bMRXTZ03Lm0JFIPvX9RaCIGQbo/+OfRYPe52/Du46jPt3HmDu8jkobm2J20F3sMJvNcwtzFClZmVcPncVN/8Mxsbda6UuVaXEvn+DXjsnY2VHHwz36o4sIQt7g08iKCIEmVlZ8nk5nbGRQQag6JzJ+Vaq/tkhWehavnw53N3dYWJiojAuCAJCQkKgr6+fq0b7+PhkC3CCRmZelppvTE1Moa6uni3Fx8fHZ0v79O3YZ/Gw1/kvLTUNW1b5w3fpTNSsUwMA4FTGEU8fPsPen/ajSs3KuHk9GC8jotCmbkeFdWdP+AFulSpg2eZFUpSuEs48CkD5+e1grmeCD1kfkJj6Ds9nnsSL+EgAwKu3cbA0NM+2noWBKV69VZ0jNnmtqHx2SBa65s2bh02bNmHJkiVo2LChfFxTUxP+/v5wdXXN1Xa0tbWhra2tMJaamZynteYXTS1NlHMth4ArAWjU+O8eBFwJQP2G9aUrTMWwz+Jhr/Pfhw8f8OHDB8hkileHqKmrISvr45GUnv27oVWHFgrLB3YZguHjh8CzXk3RalVlcclvAAD1nKrBUt8MR+9fAABce3EbJrqGqGpbHoHh9wAA1WwrwETXEAEvbktVboFXVD47JAtdPj4+aNy4Mby9vdGmTRv4+flBU1NTqnIk07ufN6ZNng7X8q5w96iIA/sOIioqGl26dZa6NJXCPouHvf7vUpJTEBn+Uv48KjIaTx4+haGRIYpbW8K9SkVsWL4J2jpaKG5dHLdu3Mapo79j2LjBAAAzC7McL563tLaEdQkr0fajoNHX0oWTha38uYOZDSralEFCchLC30TDVNcItqZWsDYqBgAo89e3DV+9jZMfpepdtQ0evn6OmPdvUMPeDYvbTsCqi7/gccwLAMDD16E4+eAy1nSeju8PzAMArO48Hb/dvyCfQzkrCp8dkoUuAKhWrRpu3LiBESNGoGrVqti5c6dKnbvNjeYtmiHxTSI2rtuImJhYOJd2xpoNq2BTwkbq0lQK+ywe9vq/e3j/EcYNmiR/vm7JBgBAszZNMNl3AmbM98GmVVsxb+oCvE16i+LWlhg4oh/admktVcmFQuWSrjg1bKP8+cK24wEAPwX+isF7ZqNV+XrY1G22fPlP3vMBAHNPbcC80x/XK1PMAb4tR8JM1xgvEl5i4dmtWHnhZ4XX6f/LdCxpPxG/DloDAPjt/gWMPZTzvcHob0Xhs0MmFJB7NOzevRtjxoxBTEwM7ty5k+vTizkpLKcXiajgiUt7LXUJRYLzrE5Sl1AkJMy/KHUJRYaOut5X50h6pOufunfvjtq1a+PGjRuwt+cN5IiIiEi1FJjQBQAlS5ZEyZIlpS6DiIiIKM8VuJujEhEREakihi4iIiIiETB0EREREYmAoYuIiIhIBAxdRERERCJg6CIiIiISAUMXERERkQgYuoiIiIhEwNBFREREJAKGLiIiIiIRMHQRERERiYChi4iIiEgEDF1EREREImDoIiIiIhIBQxcRERGRCBi6iIiIiETA0EVEREQkAoYuIiIiIhEwdBERERGJgKGLiIiISAQMXUREREQiYOgiIiIiEgFDFxEREZEIGLqIiIiIRMDQRURERCQCmSAIgtRF5LXUzGSpSyAiIpKcbvMyUpdQZAinI746h0e6iIiIiETA0EVEREQkAoYuIiIiIhEwdBERERGJgKGLiIiISAQMXUREREQiYOgiIiIiEgFDFxEREZEIGLqIiIiIRMDQRURERCQChi4iIiIiETB0EREREYmAoYuIiIhIBAxdRERERCJg6CIiIiISAUMXERERkQgYuoiIiIhEwNBFREREJAKGLiIiIiIRMHQRERERiYChi4iIiEgEDF1EREREImDoIiIiIhIBQxcRERGRCBi6iIiIiETA0FUA7Nm1Fy2atEI1jxro3rknggKDpC5JJbHP4mGvxcE+i4e9zr06bjVwxHcbIncHQjgdgXa1mn127vrR8yGcjsDoDgMVxrU0tbByxA+I2X8b7448wv98t6KEhbV8eb2KnhBOR+T4qFrGPd/27b9i6JLYieMnsdBvEQYNGYg9B3ahcpVKGD5kJKJeRkldmkphn8XDXouDfRYPe60cfR093Hp2HyNXz/jivHa1mqFGuUqIjI3Otmz5sNno4NUc3ecNR+2xHWCgo4+jc/2hpvYxtly5HwirrpUUHpuO/YLnUWEIfHQrX/YrLzB0Sewn/53o0Kk9OnbuCEcnR0zymQgrayvs3b1P6tJUCvssHvZaHOyzeNhr5Zy4/gdm+C/CoUvHPzvHxtwKq0fORS+/75HxIUNhmZGeIQY2747xG3xx5uYlBD+9B+8Fo+DmUBaNK9cBAGR8yMCrhBj5Iy4pAW09m2DryT35um//FUOXhDLSMxByPwSeXp4K4561auJWcMFN6oUN+ywe9loc7LN42Ou8J5PJ8NPkFVi0bz3uv3iUbXmVMm7Q0tTCqRsX5GNRca9wN/QharlWzXGbbT2bwsLIDP6n9uZb3XmBoUtCCW8SkJmZCXNzM4Vxc3NzxMbGSVSV6mGfxcNei4N9Fg97nfcmdxuOD1kfsPLQlhyXW5laIi09DW/eJSqMv3oTAyvTYjmuM7BFd5y8cR4RMQX7lK+G1AX8U0JCArZv347Hjx/D2toaffv2ha2t7RfXSUtLQ1pamsKYoJEJbW3t/Cw1T8lkMoXngiBkG6P/jn0WD3stDvZZPOx13qhc2g2jOwxE5eEtlF5XBhkECNnGS1hYo1mVeug6d1helJivJD3SZWNjg7i4j78pPH/+HK6urliwYAEeP36MDRs2wM3NDQ8ePPjiNvz8/GBsbKzwWDR/sRjl/2emJqZQV1fP9ttSfHx8tt+q6Nuxz+Jhr8XBPouHvc5bdSpUh6WJBcJ+voaME6HIOBEKBytbLBkyE89/ugoAiE54DW0tbZgYGCusa2ligVcJsdm22b9ZV8QlJeDI1VOi7MN/IWnoio6ORmZmJgBg6tSpKFu2LJ4+fYpTp07hyZMnqFOnDmbM+PK3H3x8fJCYmKjwmDhlghjl/2eaWpoo51oOAVcCFMYDrgTA3aPgfuW1sGGfxcNei4N9Fg97nbd++v0AKg5pAo+hzeSPyNhoLNq3Hs18egEAbjy6g/SMdDT566J5ALAys0QFBxdcuR+YbZv9m3XFjt/340PmB9H241sVmNOL165dw+bNm6GnpwcA0NbWxvTp09G5c+cvrqetrZ3tVGJqZnK+1ZnXevfzxrTJ0+Fa3hXuHhVxYN9BREVFo0u3L+83KYd9Fg97LQ72WTzstXL0dfTgXMJB/ryUlS3cnVwRn/QG4TEvEf/2jcL8jA8ZiI5/jUcRzwAASclvseXEbiwZMhNxbxMQn/QGi4fMwJ3QB/g96KLCug0recHR2h5bTuzO793KE5KHrk/nxNPS0lC8eHGFZcWLF0dMTIwUZYmmeYtmSHyTiI3rNiImJhbOpZ2xZsMq2JSwkbo0lcI+i4e9Fgf7LB72WjlVy7jj3JK/b6exbNhsAID/qb3ov2hcrrYxdt0cfMjMxN7p66GrpYMzNy+h36KxyMrKUpg3sHkPXL53HQ/CnuRZ/flJJghC9qvSRKKmpoYKFSpAQ0MDjx8/xo4dO9ChQwf58gsXLqBnz56IiIhQaruF6UgXERFRftFtXkbqEooM4fTXs4qkR7pmzZql8PzTqcVPfv31V9SpUwdEREREhZ2kR7ryC490ERER8UiXmHJzpIs3RyUiIiISAUMXERERkQgYuoiIiIhEwNBFREREJAKGLiIiIiIRMHQRERERiYChi4iIiEgEDF1EREREImDoIiIiIhIBQxcRERGRCBi6iIiIiETA0EVEREQkAoYuIiIiIhEwdBERERGJgKGLiIiISAQMXUREREQiYOgiIiIiEgFDFxEREZEIGLqIiIiIRMDQRURERCQChi4iIiIiETB0EREREYmAoYuIiIhIBAxdRERERCJg6CIiIiISgUwQBEHqIoq6tLQ0+Pn5wcfHB9ra2lKXo9LYa3Gwz+Jhr8XBPotHlXvN0FUAJCUlwdjYGImJiTAyMpK6HJXGXouDfRYPey0O9lk8qtxrnl4kIiIiEgFDFxEREZEIGLqIiIiIRMDQVQBoa2tj1qxZKnfBYEHEXouDfRYPey0O9lk8qtxrXkhPREREJAIe6SIiIiISAUMXERERkQgYuoiIiIhEwNBFREREJAKGrgJg7dq1KFWqFHR0dFClShVcvHhR6pJUzoULF9CmTRvY2NhAJpPh8OHDUpekkvz8/FCtWjUYGhrC0tIS7du3x8OHD6UuS+WsW7cOFStWhJGREYyMjODp6Ynjx49LXZbK8/Pzg0wmw5gxY6QuReXMnj0bMplM4WFlZSV1WXmOoUtie/bswZgxYzBt2jTcvHkTderUQYsWLRAWFiZ1aSrl/fv3cHd3x+rVq6UuRaWdP38eI0aMQEBAAE6fPo0PHz6gadOmeP/+vdSlqZSSJUti/vz5CAwMRGBgIBo2bIh27drh3r17Upemsq5fv46NGzeiYsWKUpeissqXL4+oqCj5486dO1KXlOd4ywiJ1ahRA5UrV8a6devkY+XKlUP79u3h5+cnYWWqSyaT4dChQ2jfvr3Upai8mJgYWFpa4vz586hbt67U5ag0MzMzLFq0CAMHDpS6FJXz7t07VK5cGWvXrsXcuXPh4eGB5cuXS12WSpk9ezYOHz6M4OBgqUvJVzzSJaH09HTcuHEDTZs2VRhv2rQprly5IlFVRHknMTERwMdAQPkjMzMTu3fvxvv37+Hp6Sl1OSppxIgRaNWqFRo3bix1KSrt8ePHsLGxQalSpdC9e3c8e/ZM6pLynIbUBRRlsbGxyMzMRPHixRXGixcvjujoaImqIsobgiBg3LhxqF27NipUqCB1OSrnzp078PT0RGpqKgwMDHDo0CG4urpKXZbK2b17N4KCgnD9+nWpS1FpNWrUwI4dO1CmTBm8evUKc+fORa1atXDv3j2Ym5tLXV6eYegqAGQymcJzQRCyjREVNiNHjsTt27dx6dIlqUtRSS4uLggODsabN29w4MAB9O3bF+fPn2fwykPh4eEYPXo0Tp06BR0dHanLUWktWrSQ/9vNzQ2enp5wcnLC9u3bMW7cOAkry1sMXRKysLCAurp6tqNar1+/znb0i6gw+f7773HkyBFcuHABJUuWlLoclaSlpQVnZ2cAQNWqVXH9+nWsWLECGzZskLgy1XHjxg28fv0aVapUkY9lZmbiwoULWL16NdLS0qCuri5hhapLX18fbm5uePz4sdSl5Cle0yUhLS0tVKlSBadPn1YYP336NGrVqiVRVUTfThAEjBw5EgcPHsTZs2dRqlQpqUsqMgRBQFpamtRlqJRGjRrhzp07CA4Olj+qVq2KXr16ITg4mIErH6WlpSEkJATW1tZSl5KneKRLYuPGjUPv3r1RtWpVeHp6YuPGjQgLC8PQoUOlLk2lvHv3Dk+ePJE/f/78OYKDg2FmZgY7OzsJK1MtI0aMwC+//IL//e9/MDQ0lB/FNTY2hq6ursTVqY6pU6eiRYsWsLW1xdu3b7F7926cO3cOJ06ckLo0lWJoaJjtekR9fX2Ym5vzOsU8NmHCBLRp0wZ2dnZ4/fo15s6di6SkJPTt21fq0vIUQ5fEunXrhri4OPj6+iIqKgoVKlTAsWPHYG9vL3VpKiUwMBANGjSQP/90jUDfvn3h7+8vUVWq59OtT+rXr68wvm3bNvTr10/8glTUq1ev0Lt3b0RFRcHY2BgVK1bEiRMn0KRJE6lLI/omERER6NGjB2JjY1GsWDHUrFkTAQEBKvf/Qt6ni4iIiEgEvKaLiIiISAQMXUREREQiYOgiIiIiEgFDFxEREZEIGLqIiIiIRMDQRURERCQChi4iIiIiETB0EREREYmAoYuIJFG/fn2MGTNG6jIk1a9fP7Rv317+nD0hUm0MXUSklDZt2qBx48Y5Lrt69SpkMhmCgoJErirv1K9fHzKZDDKZDNra2ihTpgx+/PFHZGZm5vtrHzx4ED/88IP8uYODA5YvX57vr0tE4mDoIiKlDBw4EGfPnsWLFy+yLdu6dSs8PDxQuXLlfK8jMzMTWVlZ+bLtQYMGISoqCg8fPsSoUaMwffp0LF68OMe56enpefa6ZmZmMDQ0zLPtEVHBwtBFREpp3bo1LC0ts/2h8OTkZOzZswcDBw5EXFwcevTogZIlS0JPTw9ubm7YtWvXF7ebkJCAPn36wNTUFHp6emjRogUeP34sX+7v7w8TExMcPXoUrq6u0NbWxosXL5Ceno5JkyahRIkS0NfXR40aNXDu3Dn5ei9evECbNm1gamoKfX19lC9fHseOHftiLXp6erCysoKDgwNGjhyJRo0a4fDhwwD+PiXo5+cHGxsblClTBgAQGRmJbt26wdTUFObm5mjXrh1CQ0Pl28zMzMS4ceNgYmICc3NzTJo0Cf/+07f/PL1Yv359vHjxAmPHjpUfefvkwIEDKF++PLS1teHg4IAlS5YobGft2rUoXbo0dHR0ULx4cXTu3PmL+0tE4mDoIiKlaGhooE+fPvD391cIDfv27UN6ejp69eqF1NRUVKlSBUePHsXdu3cxePBg9O7dG9euXfvsdvv164fAwEAcOXIEV69ehSAIaNmyJTIyMuRzkpOT4efnh82bN+PevXuwtLRE//79cfnyZezevRu3b99Gly5d0Lx5c3lgGzFiBNLS0nDhwgXcuXMHCxYsgIGBgVL7rKurq1DHmTNnEBISgtOnT+Po0aNITk5GgwYNYGBggAsXLuDSpUswMDBA8+bN5UfClixZgq1bt2LLli24dOkS4uPjcejQoc++5sGDB1GyZEn4+voiKioKUVFRAIAbN26ga9eu6N69O+7cuYPZs2djxowZ8hAcGBiIUaNGwdfXFw8fPsSJEydQt25dpfaXiPKJQESkpJCQEAGAcPbsWflY3bp1hR49enx2nZYtWwrjx4+XP69Xr54wevRoQRAE4dGjRwIA4fLly/LlsbGxgq6urrB3715BEARh27ZtAgAhODhYPufJkyeCTCYTIiMjFV6rUaNGgo+PjyAIguDm5ibMnj071/v2z7oyMzOF48ePC1paWsKkSZMEQRCEvn37CsWLFxfS0tLk62zZskVwcXERsrKy5GNpaWmCrq6ucPLkSUEQBMHa2lqYP3++fHlGRoZQsmRJoV27djm+tiAIgr29vbBs2TKF+nr27Ck0adJEYWzixImCq6urIAiCcODAAcHIyEhISkrK9T4TkTh4pIuIlFa2bFnUqlULW7duBQA8ffoUFy9exIABAwB8PJU2b948VKxYEebm5jAwMMCpU6cQFhaW4/ZCQkKgoaGBGjVqyMfMzc3h4uKCkJAQ+ZiWlhYqVqwofx4UFARBEFCmTBkYGBjIH+fPn8fTp08BAKNGjcLcuXPh5eWFWbNm4fbt21/dv7Vr18LAwAA6Ojpo27YtvL29MWvWLPlyNzc3aGlpyZ/fuHEDT548gaGhobwGMzMzpKam4unTp0hMTERUVBQ8PT3l62hoaKBq1apfrSWnXnl5eSmMeXl54fHjx8jMzESTJk1gb28PR0dH9O7dGz///DOSk5OVfh0iynsaUhdARIXTwIEDMXLkSKxZswbbtm2Dvb09GjVqBODjqbRly5Zh+fLlcHNzg76+PsaMGfPZi86Ff13b9M/xf17LpKurq/A8KysL6urquHHjBtTV1RXW/XQK8bvvvkOzZs3w22+/4dSpU/Dz88OSJUvw/ffff3bfevXqhWnTpkFbWxs2NjbZtq2vr6/wPCsrC1WqVMHPP/+cbVvFihX77Ot8i3/35NPYJ4aGhggKCsK5c+dw6tQpzJw5E7Nnz8b169dhYmKSp7UQkXJ4pIuIvknXrl2hrq6OX375Bdu3b0f//v3lYeDixYto164dvL294e7uDkdHR4WL4v/N1dUVHz58ULjmKy4uDo8ePUK5cuU+u16lSpWQmZmJ169fw9nZWeFhZWUln2dra4uhQ4fi4MGDGD9+PDZt2vTFfTM2NoazszNsbW2zBa6cVK5cGY8fP4alpWW2OoyNjWFsbAxra2sEBATI1/nw4QNu3Ljxxe1qaWllu1WFq6srLl26pDB25coVlClTRl6rhoYGGjdujIULF+L27dsIDQ3F2bNnv7ofRJS/GLqI6JsYGBigW7dumDp1Kl6+fIl+/frJlzk7O+P06dO4cuUKQkJCMGTIEERHR392W6VLl0a7du0waNAgXLp0Cbdu3YK3tzdKlCiBdu3afXa9MmXKoFevXujTpw8OHjyI58+f4/r161iwYIH8G4pjxozByZMn8fz5cwQFBeHs2bNfDHLfolevXrCwsEC7du1w8eJFPH/+HOfPn8fo0aMREREBABg9ejTmz5+PQ4cO4cGDBxg+fDjevHnzxe06ODjgwoULiIyMRGxsLABg/PjxOHPmDH744Qc8evQI27dvx+rVqzFhwgQAwNGjR7Fy5UoEBwfjxYsX2LFjB7KysuDi4pKn+0xEymPoIqJvNnDgQCQkJKBx48aws7OTj8+YMQOVK1dGs2bNUL9+fVhZWSnceT0n27ZtQ5UqVdC6dWt4enpCEAQcO3YMmpqaX12vT58+GD9+PFxcXNC2bVtcu3YNtra2AD5eXzZixAiUK1cOzZs3h4uLC9auXfuf9/2f9PT0cOHCBdjZ2aFjx44oV64cBgwYgJSUFBgZGQH4GJb69OmDfv36wdPTE4aGhujQocMXt+vr64vQ0FA4OTnJT1NWrlwZe/fuxe7du1GhQgXMnDkTvr6+8tBrYmKCgwcPomHDhihXrhzWr1+PXbt2oXz58nm6z0SkPJnwuYspiIiIiCjP8EgXERERkQgYuoiIiIhEwNBFREREJAKGLiIiIiIRMHQRERERiYChi4iIiEgEDF1EREREImDoIiIiIhIBQxcRERGRCBi6iIiIiETA0EVEREQkgv8D9GELb8dGmRkAAAAASUVORK5CYII=",
      "text/plain": [
       "<Figure size 700x500 with 1 Axes>"
      ]
     },
     "metadata": {},
     "output_type": "display_data"
    }
   ],
   "source": [
    "# Fazendo previsões no conjunto com a base de treino\n",
    "y_pred = clf.predict(X_train)\n",
    "\n",
    "# Calculando a matriz de confusão\n",
    "cm = confusion_matrix(y_train, y_pred)\n",
    "\n",
    "# Plotando a matriz de confusão como um heatmap\n",
    "plt.figure(figsize=(7, 5))\n",
    "sns.heatmap(cm, annot=True, fmt=\"d\", cmap=\"Greens\", cbar=False)\n",
    "plt.xlabel('Valores Preditos')\n",
    "plt.ylabel('Valores Reais')\n",
    "plt.title('Matriz de Confusão')\n",
    "plt.show()"
   ]
  },
  {
   "cell_type": "markdown",
   "metadata": {},
   "source": [
    "### 5. Melhorando a árvore\n",
    "\n",
    "A melhor forma de se melhorar um algoritmo é colocando nele novas variáveis que agreguem valor. Podemos usar a força-bruta e ir colocando variáveis aleatoriamente - ou colocar todas e deixar rodando por um bom tempo - ou utilizar uma lógica eficiente e fazer uma seleção de variáveis.\n",
    "\n",
    "- Observe que há classes mais fáceis e mais difíceis de se identificar\n",
    "- Crie uma variável binária para uma das classes de maior erro\n",
    "- Fala uma árvore de classificação bem simples para esta variável:\n",
    "    - utilize ```mean_samples_leaf=20```\n",
    "    - utilize ```max_depth=4```\n",
    "    - coloque todas as variáveis\n",
    "- Observe a importância das variáveis, e selecione as 3 com maior importância\n",
    "- Rode novamente o algoritmo acima com as 3 novas variáveis e avalie a acurácia"
   ]
  },
  {
   "cell_type": "code",
   "execution_count": 34,
   "metadata": {},
   "outputs": [
    {
     "name": "stdout",
     "output_type": "stream",
     "text": [
      "Variável: tGravityAcc-min()-X, Importância: 0.28532491888609846\n",
      "Variável: angle(Y,gravityMean), Importância: 0.16763988727884296\n",
      "Variável: fBodyAccMag-energy(), Importância: 0.13927130621719028\n"
     ]
    }
   ],
   "source": [
    "# Obtendo a importância das variáveis\n",
    "importances = clf.feature_importances_\n",
    "\n",
    "# Criando um dicionário que mapeia nomes de colunas (variáveis) para suas importâncias\n",
    "feature_importance_dict = {feature_name: importance for feature_name, importance in zip(X_train.columns, importances)}\n",
    "\n",
    "# Ordenando o dicionário pelas importâncias em ordem decrescente\n",
    "sorted_feature_importance = sorted(feature_importance_dict.items(), key=lambda x: x[1], reverse=True)\n",
    "\n",
    "# Obtendo as 3 variáveis mais importantes\n",
    "top_3_variables = sorted_feature_importance[:3]\n",
    "\n",
    "# Imprimindo as 3 variáveis mais importantes e suas importâncias\n",
    "for variable, importance in top_3_variables:\n",
    "    print(f\"Variável: {variable}, Importância: {importance}\")"
   ]
  },
  {
   "cell_type": "code",
   "execution_count": 35,
   "metadata": {},
   "outputs": [
    {
     "data": {
      "text/html": [
       "<style>#sk-container-id-4 {color: black;}#sk-container-id-4 pre{padding: 0;}#sk-container-id-4 div.sk-toggleable {background-color: white;}#sk-container-id-4 label.sk-toggleable__label {cursor: pointer;display: block;width: 100%;margin-bottom: 0;padding: 0.3em;box-sizing: border-box;text-align: center;}#sk-container-id-4 label.sk-toggleable__label-arrow:before {content: \"▸\";float: left;margin-right: 0.25em;color: #696969;}#sk-container-id-4 label.sk-toggleable__label-arrow:hover:before {color: black;}#sk-container-id-4 div.sk-estimator:hover label.sk-toggleable__label-arrow:before {color: black;}#sk-container-id-4 div.sk-toggleable__content {max-height: 0;max-width: 0;overflow: hidden;text-align: left;background-color: #f0f8ff;}#sk-container-id-4 div.sk-toggleable__content pre {margin: 0.2em;color: black;border-radius: 0.25em;background-color: #f0f8ff;}#sk-container-id-4 input.sk-toggleable__control:checked~div.sk-toggleable__content {max-height: 200px;max-width: 100%;overflow: auto;}#sk-container-id-4 input.sk-toggleable__control:checked~label.sk-toggleable__label-arrow:before {content: \"▾\";}#sk-container-id-4 div.sk-estimator input.sk-toggleable__control:checked~label.sk-toggleable__label {background-color: #d4ebff;}#sk-container-id-4 div.sk-label input.sk-toggleable__control:checked~label.sk-toggleable__label {background-color: #d4ebff;}#sk-container-id-4 input.sk-hidden--visually {border: 0;clip: rect(1px 1px 1px 1px);clip: rect(1px, 1px, 1px, 1px);height: 1px;margin: -1px;overflow: hidden;padding: 0;position: absolute;width: 1px;}#sk-container-id-4 div.sk-estimator {font-family: monospace;background-color: #f0f8ff;border: 1px dotted black;border-radius: 0.25em;box-sizing: border-box;margin-bottom: 0.5em;}#sk-container-id-4 div.sk-estimator:hover {background-color: #d4ebff;}#sk-container-id-4 div.sk-parallel-item::after {content: \"\";width: 100%;border-bottom: 1px solid gray;flex-grow: 1;}#sk-container-id-4 div.sk-label:hover label.sk-toggleable__label {background-color: #d4ebff;}#sk-container-id-4 div.sk-serial::before {content: \"\";position: absolute;border-left: 1px solid gray;box-sizing: border-box;top: 0;bottom: 0;left: 50%;z-index: 0;}#sk-container-id-4 div.sk-serial {display: flex;flex-direction: column;align-items: center;background-color: white;padding-right: 0.2em;padding-left: 0.2em;position: relative;}#sk-container-id-4 div.sk-item {position: relative;z-index: 1;}#sk-container-id-4 div.sk-parallel {display: flex;align-items: stretch;justify-content: center;background-color: white;position: relative;}#sk-container-id-4 div.sk-item::before, #sk-container-id-4 div.sk-parallel-item::before {content: \"\";position: absolute;border-left: 1px solid gray;box-sizing: border-box;top: 0;bottom: 0;left: 50%;z-index: -1;}#sk-container-id-4 div.sk-parallel-item {display: flex;flex-direction: column;z-index: 1;position: relative;background-color: white;}#sk-container-id-4 div.sk-parallel-item:first-child::after {align-self: flex-end;width: 50%;}#sk-container-id-4 div.sk-parallel-item:last-child::after {align-self: flex-start;width: 50%;}#sk-container-id-4 div.sk-parallel-item:only-child::after {width: 0;}#sk-container-id-4 div.sk-dashed-wrapped {border: 1px dashed gray;margin: 0 0.4em 0.5em 0.4em;box-sizing: border-box;padding-bottom: 0.4em;background-color: white;}#sk-container-id-4 div.sk-label label {font-family: monospace;font-weight: bold;display: inline-block;line-height: 1.2em;}#sk-container-id-4 div.sk-label-container {text-align: center;}#sk-container-id-4 div.sk-container {/* jupyter's `normalize.less` sets `[hidden] { display: none; }` but bootstrap.min.css set `[hidden] { display: none !important; }` so we also need the `!important` here to be able to override the default hidden behavior on the sphinx rendered scikit-learn.org. See: https://github.com/scikit-learn/scikit-learn/issues/21755 */display: inline-block !important;position: relative;}#sk-container-id-4 div.sk-text-repr-fallback {display: none;}</style><div id=\"sk-container-id-4\" class=\"sk-top-container\"><div class=\"sk-text-repr-fallback\"><pre>DecisionTreeClassifier(ccp_alpha=0.011786934153282457, max_depth=4,\n",
       "                       min_samples_leaf=20, random_state=42)</pre><b>In a Jupyter environment, please rerun this cell to show the HTML representation or trust the notebook. <br />On GitHub, the HTML representation is unable to render, please try loading this page with nbviewer.org.</b></div><div class=\"sk-container\" hidden><div class=\"sk-item\"><div class=\"sk-estimator sk-toggleable\"><input class=\"sk-toggleable__control sk-hidden--visually\" id=\"sk-estimator-id-6\" type=\"checkbox\" checked><label for=\"sk-estimator-id-6\" class=\"sk-toggleable__label sk-toggleable__label-arrow\">DecisionTreeClassifier</label><div class=\"sk-toggleable__content\"><pre>DecisionTreeClassifier(ccp_alpha=0.011786934153282457, max_depth=4,\n",
       "                       min_samples_leaf=20, random_state=42)</pre></div></div></div></div></div>"
      ],
      "text/plain": [
       "DecisionTreeClassifier(ccp_alpha=0.011786934153282457, max_depth=4,\n",
       "                       min_samples_leaf=20, random_state=42)"
      ]
     },
     "execution_count": 35,
     "metadata": {},
     "output_type": "execute_result"
    }
   ],
   "source": [
    "# Usando apenas as 3 melhores variáveis encontradas\n",
    "variables = ['tGravityAcc-min()-X', 'angle(Y,gravityMean)', 'fBodyAccMag-energy()']\n",
    "X_train_subset = X_train[variables]\n",
    "\n",
    "# Criando uma árvore com a variável X_train_subset que contém as 3 variáveis consideradas mais importantes\n",
    "# Definindo o ccp_alpha como o melhor ccp_alpha encontrado\n",
    "clf = DecisionTreeClassifier(max_depth=4, ccp_alpha = melhor_ccp, random_state=42, min_samples_leaf=20)\n",
    "clf.fit(X_train_subset, y_train)"
   ]
  },
  {
   "cell_type": "code",
   "execution_count": 39,
   "metadata": {},
   "outputs": [
    {
     "name": "stdout",
     "output_type": "stream",
     "text": [
      "Acurácia: 85.04\n"
     ]
    },
    {
     "data": {
      "image/png": "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",
      "text/plain": [
       "<Figure size 700x500 with 1 Axes>"
      ]
     },
     "metadata": {},
     "output_type": "display_data"
    }
   ],
   "source": [
    "# Verificando acurácia dessa árvore na base de teste\n",
    "acuracia_test = clf.score(X_train_subset, y_train)\n",
    "\n",
    "print(f\"Acurácia: {acuracia_test*100:.2f}\")\n",
    "\n",
    "# Fazendo previsões no conjunto com a base de treino\n",
    "y_pred = clf.predict(X_train_subset)\n",
    "\n",
    "# Calculando a matriz de confusão\n",
    "cm = confusion_matrix(y_train, y_pred)\n",
    "\n",
    "# Plotando a matriz de confusão como um heatmap\n",
    "plt.figure(figsize=(7, 5))\n",
    "sns.heatmap(cm, annot=True, fmt=\"d\", cmap=\"Blues\", cbar=False)\n",
    "plt.xlabel('Valores Preditos')\n",
    "plt.ylabel('Valores Reais')\n",
    "plt.title('Matriz de Confusão')\n",
    "plt.show()"
   ]
  }
 ],
 "metadata": {
  "kernelspec": {
   "display_name": "Python 3",
   "language": "python",
   "name": "python3"
  },
  "language_info": {
   "codemirror_mode": {
    "name": "ipython",
    "version": 3
   },
   "file_extension": ".py",
   "mimetype": "text/x-python",
   "name": "python",
   "nbconvert_exporter": "python",
   "pygments_lexer": "ipython3",
   "version": "3.10.9"
  },
  "toc": {
   "base_numbering": 1,
   "nav_menu": {},
   "number_sections": false,
   "sideBar": true,
   "skip_h1_title": true,
   "title_cell": "Índice",
   "title_sidebar": "Conteúdo",
   "toc_cell": false,
   "toc_position": {},
   "toc_section_display": true,
   "toc_window_display": true
  },
  "varInspector": {
   "cols": {
    "lenName": 16,
    "lenType": 16,
    "lenVar": 40
   },
   "kernels_config": {
    "python": {
     "delete_cmd_postfix": "",
     "delete_cmd_prefix": "del ",
     "library": "var_list.py",
     "varRefreshCmd": "print(var_dic_list())"
    },
    "r": {
     "delete_cmd_postfix": ") ",
     "delete_cmd_prefix": "rm(",
     "library": "var_list.r",
     "varRefreshCmd": "cat(var_dic_list()) "
    }
   },
   "types_to_exclude": [
    "module",
    "function",
    "builtin_function_or_method",
    "instance",
    "_Feature"
   ],
   "window_display": false
  }
 },
 "nbformat": 4,
 "nbformat_minor": 4
}
